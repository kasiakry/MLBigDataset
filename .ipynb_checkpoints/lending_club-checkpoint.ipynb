{
 "cells": [
  {
   "cell_type": "markdown",
   "metadata": {},
   "source": [
    "# Grzegorz Krochmal and Katarzyna Kryńska\n",
    "## *Prediction of LendingClub loan defaulters*"
   ]
  },
  {
   "cell_type": "markdown",
   "metadata": {},
   "source": [
    "# Introduction"
   ]
  },
  {
   "cell_type": "markdown",
   "metadata": {},
   "source": [
    "LendingClub is a US peer-to-peer lending company. LendingClub enables borrowers to create unsecured personal loans between \\\\$500 and \\\\$40,000. Investors can choose which loans they want to invest in based on information about borrower, amount of loan, loan grade and loan purpose. \n",
    "\n",
    "As loans are unsecured, it is crucial to assess whether the borrower will be able to pay their debt. Therefore our main goal is to correctly identify defaulters, so that LendingClub can conclude whether an applicant is fit for a loan in the future."
   ]
  },
  {
   "cell_type": "code",
   "execution_count": 4,
   "metadata": {},
   "outputs": [],
   "source": [
    "import pandas as pd\n",
    "import matplotlib.pyplot as plt\n",
    "import seaborn as sns\n",
    "import numpy as np\n",
    "from sklearn.linear_model import LogisticRegression\n",
    "from sklearn.model_selection import cross_val_predict\n",
    "from sklearn.model_selection import train_test_split\n",
    "from sklearn import preprocessing\n",
    "from sklearn.model_selection import cross_val_score\n",
    "from sklearn.metrics import accuracy_score\n",
    "from sklearn.metrics import confusion_matrix as cm\n",
    "from sklearn.model_selection import KFold\n",
    "from sklearn import metrics\n",
    "from sklearn.svm import SVC\n",
    "import seaborn as sns"
   ]
  },
  {
   "cell_type": "markdown",
   "metadata": {},
   "source": [
    "# 1. Data Overview"
   ]
  },
  {
   "cell_type": "markdown",
   "metadata": {},
   "source": [
    "The dataset used in analysis includes loan data for all loans issued through 2007-2015, both those which already ended and current ones. It consists of more than 2 million observations (rows) and 145 variables (columns).\n",
    "\n",
    "Firstly, we will have a look at the data."
   ]
  },
  {
   "cell_type": "code",
   "execution_count": 5,
   "metadata": {},
   "outputs": [],
   "source": [
    "data = pd.read_csv(\"D:\\WNE\\lending-club-loan-data\\loan.csv\", low_memory=False)\n",
    "#data = pd.read_csv(r\"C:\\Users\\user\\Desktop\\studia\\Data Science\\Semestr 2\\Python_ML\\big_dataset\\Lending_Club_Loan\\loan.csv\", low_memory=False)"
   ]
  },
  {
   "cell_type": "code",
   "execution_count": 6,
   "metadata": {},
   "outputs": [
    {
     "data": {
      "text/html": [
       "<div>\n",
       "<style scoped>\n",
       "    .dataframe tbody tr th:only-of-type {\n",
       "        vertical-align: middle;\n",
       "    }\n",
       "\n",
       "    .dataframe tbody tr th {\n",
       "        vertical-align: top;\n",
       "    }\n",
       "\n",
       "    .dataframe thead th {\n",
       "        text-align: right;\n",
       "    }\n",
       "</style>\n",
       "<table border=\"1\" class=\"dataframe\">\n",
       "  <thead>\n",
       "    <tr style=\"text-align: right;\">\n",
       "      <th></th>\n",
       "      <th>id</th>\n",
       "      <th>member_id</th>\n",
       "      <th>loan_amnt</th>\n",
       "      <th>funded_amnt</th>\n",
       "      <th>funded_amnt_inv</th>\n",
       "      <th>term</th>\n",
       "      <th>int_rate</th>\n",
       "      <th>installment</th>\n",
       "      <th>grade</th>\n",
       "      <th>sub_grade</th>\n",
       "      <th>...</th>\n",
       "      <th>hardship_payoff_balance_amount</th>\n",
       "      <th>hardship_last_payment_amount</th>\n",
       "      <th>disbursement_method</th>\n",
       "      <th>debt_settlement_flag</th>\n",
       "      <th>debt_settlement_flag_date</th>\n",
       "      <th>settlement_status</th>\n",
       "      <th>settlement_date</th>\n",
       "      <th>settlement_amount</th>\n",
       "      <th>settlement_percentage</th>\n",
       "      <th>settlement_term</th>\n",
       "    </tr>\n",
       "  </thead>\n",
       "  <tbody>\n",
       "    <tr>\n",
       "      <th>0</th>\n",
       "      <td>NaN</td>\n",
       "      <td>NaN</td>\n",
       "      <td>2500</td>\n",
       "      <td>2500</td>\n",
       "      <td>2500.0</td>\n",
       "      <td>36 months</td>\n",
       "      <td>13.56</td>\n",
       "      <td>84.92</td>\n",
       "      <td>C</td>\n",
       "      <td>C1</td>\n",
       "      <td>...</td>\n",
       "      <td>NaN</td>\n",
       "      <td>NaN</td>\n",
       "      <td>Cash</td>\n",
       "      <td>N</td>\n",
       "      <td>NaN</td>\n",
       "      <td>NaN</td>\n",
       "      <td>NaN</td>\n",
       "      <td>NaN</td>\n",
       "      <td>NaN</td>\n",
       "      <td>NaN</td>\n",
       "    </tr>\n",
       "    <tr>\n",
       "      <th>1</th>\n",
       "      <td>NaN</td>\n",
       "      <td>NaN</td>\n",
       "      <td>30000</td>\n",
       "      <td>30000</td>\n",
       "      <td>30000.0</td>\n",
       "      <td>60 months</td>\n",
       "      <td>18.94</td>\n",
       "      <td>777.23</td>\n",
       "      <td>D</td>\n",
       "      <td>D2</td>\n",
       "      <td>...</td>\n",
       "      <td>NaN</td>\n",
       "      <td>NaN</td>\n",
       "      <td>Cash</td>\n",
       "      <td>N</td>\n",
       "      <td>NaN</td>\n",
       "      <td>NaN</td>\n",
       "      <td>NaN</td>\n",
       "      <td>NaN</td>\n",
       "      <td>NaN</td>\n",
       "      <td>NaN</td>\n",
       "    </tr>\n",
       "    <tr>\n",
       "      <th>2</th>\n",
       "      <td>NaN</td>\n",
       "      <td>NaN</td>\n",
       "      <td>5000</td>\n",
       "      <td>5000</td>\n",
       "      <td>5000.0</td>\n",
       "      <td>36 months</td>\n",
       "      <td>17.97</td>\n",
       "      <td>180.69</td>\n",
       "      <td>D</td>\n",
       "      <td>D1</td>\n",
       "      <td>...</td>\n",
       "      <td>NaN</td>\n",
       "      <td>NaN</td>\n",
       "      <td>Cash</td>\n",
       "      <td>N</td>\n",
       "      <td>NaN</td>\n",
       "      <td>NaN</td>\n",
       "      <td>NaN</td>\n",
       "      <td>NaN</td>\n",
       "      <td>NaN</td>\n",
       "      <td>NaN</td>\n",
       "    </tr>\n",
       "    <tr>\n",
       "      <th>3</th>\n",
       "      <td>NaN</td>\n",
       "      <td>NaN</td>\n",
       "      <td>4000</td>\n",
       "      <td>4000</td>\n",
       "      <td>4000.0</td>\n",
       "      <td>36 months</td>\n",
       "      <td>18.94</td>\n",
       "      <td>146.51</td>\n",
       "      <td>D</td>\n",
       "      <td>D2</td>\n",
       "      <td>...</td>\n",
       "      <td>NaN</td>\n",
       "      <td>NaN</td>\n",
       "      <td>Cash</td>\n",
       "      <td>N</td>\n",
       "      <td>NaN</td>\n",
       "      <td>NaN</td>\n",
       "      <td>NaN</td>\n",
       "      <td>NaN</td>\n",
       "      <td>NaN</td>\n",
       "      <td>NaN</td>\n",
       "    </tr>\n",
       "    <tr>\n",
       "      <th>4</th>\n",
       "      <td>NaN</td>\n",
       "      <td>NaN</td>\n",
       "      <td>30000</td>\n",
       "      <td>30000</td>\n",
       "      <td>30000.0</td>\n",
       "      <td>60 months</td>\n",
       "      <td>16.14</td>\n",
       "      <td>731.78</td>\n",
       "      <td>C</td>\n",
       "      <td>C4</td>\n",
       "      <td>...</td>\n",
       "      <td>NaN</td>\n",
       "      <td>NaN</td>\n",
       "      <td>Cash</td>\n",
       "      <td>N</td>\n",
       "      <td>NaN</td>\n",
       "      <td>NaN</td>\n",
       "      <td>NaN</td>\n",
       "      <td>NaN</td>\n",
       "      <td>NaN</td>\n",
       "      <td>NaN</td>\n",
       "    </tr>\n",
       "  </tbody>\n",
       "</table>\n",
       "<p>5 rows × 145 columns</p>\n",
       "</div>"
      ],
      "text/plain": [
       "   id  member_id  loan_amnt  funded_amnt  funded_amnt_inv        term  \\\n",
       "0 NaN        NaN       2500         2500           2500.0   36 months   \n",
       "1 NaN        NaN      30000        30000          30000.0   60 months   \n",
       "2 NaN        NaN       5000         5000           5000.0   36 months   \n",
       "3 NaN        NaN       4000         4000           4000.0   36 months   \n",
       "4 NaN        NaN      30000        30000          30000.0   60 months   \n",
       "\n",
       "   int_rate  installment grade sub_grade       ...        \\\n",
       "0     13.56        84.92     C        C1       ...         \n",
       "1     18.94       777.23     D        D2       ...         \n",
       "2     17.97       180.69     D        D1       ...         \n",
       "3     18.94       146.51     D        D2       ...         \n",
       "4     16.14       731.78     C        C4       ...         \n",
       "\n",
       "  hardship_payoff_balance_amount hardship_last_payment_amount  \\\n",
       "0                            NaN                          NaN   \n",
       "1                            NaN                          NaN   \n",
       "2                            NaN                          NaN   \n",
       "3                            NaN                          NaN   \n",
       "4                            NaN                          NaN   \n",
       "\n",
       "  disbursement_method  debt_settlement_flag debt_settlement_flag_date  \\\n",
       "0                Cash                     N                       NaN   \n",
       "1                Cash                     N                       NaN   \n",
       "2                Cash                     N                       NaN   \n",
       "3                Cash                     N                       NaN   \n",
       "4                Cash                     N                       NaN   \n",
       "\n",
       "  settlement_status settlement_date settlement_amount  settlement_percentage  \\\n",
       "0               NaN             NaN               NaN                    NaN   \n",
       "1               NaN             NaN               NaN                    NaN   \n",
       "2               NaN             NaN               NaN                    NaN   \n",
       "3               NaN             NaN               NaN                    NaN   \n",
       "4               NaN             NaN               NaN                    NaN   \n",
       "\n",
       "  settlement_term  \n",
       "0             NaN  \n",
       "1             NaN  \n",
       "2             NaN  \n",
       "3             NaN  \n",
       "4             NaN  \n",
       "\n",
       "[5 rows x 145 columns]"
      ]
     },
     "execution_count": 6,
     "metadata": {},
     "output_type": "execute_result"
    }
   ],
   "source": [
    "data.head(5)"
   ]
  },
  {
   "cell_type": "markdown",
   "metadata": {},
   "source": [
    "Column names are not always clear, so we will keep column descriptions in variable *col_desc*."
   ]
  },
  {
   "cell_type": "code",
   "execution_count": 7,
   "metadata": {},
   "outputs": [
    {
     "data": {
      "text/html": [
       "<div>\n",
       "<style scoped>\n",
       "    .dataframe tbody tr th:only-of-type {\n",
       "        vertical-align: middle;\n",
       "    }\n",
       "\n",
       "    .dataframe tbody tr th {\n",
       "        vertical-align: top;\n",
       "    }\n",
       "\n",
       "    .dataframe thead th {\n",
       "        text-align: right;\n",
       "    }\n",
       "</style>\n",
       "<table border=\"1\" class=\"dataframe\">\n",
       "  <thead>\n",
       "    <tr style=\"text-align: right;\">\n",
       "      <th></th>\n",
       "      <th>LoanStatNew</th>\n",
       "      <th>Description</th>\n",
       "    </tr>\n",
       "  </thead>\n",
       "  <tbody>\n",
       "    <tr>\n",
       "      <th>0</th>\n",
       "      <td>acc_now_delinq</td>\n",
       "      <td>The number of accounts on which the borrower i...</td>\n",
       "    </tr>\n",
       "    <tr>\n",
       "      <th>1</th>\n",
       "      <td>acc_open_past_24mths</td>\n",
       "      <td>Number of trades opened in past 24 months.</td>\n",
       "    </tr>\n",
       "    <tr>\n",
       "      <th>2</th>\n",
       "      <td>addr_state</td>\n",
       "      <td>The state provided by the borrower in the loan...</td>\n",
       "    </tr>\n",
       "    <tr>\n",
       "      <th>3</th>\n",
       "      <td>all_util</td>\n",
       "      <td>Balance to credit limit on all trades</td>\n",
       "    </tr>\n",
       "    <tr>\n",
       "      <th>4</th>\n",
       "      <td>annual_inc</td>\n",
       "      <td>The self-reported annual income provided by th...</td>\n",
       "    </tr>\n",
       "  </tbody>\n",
       "</table>\n",
       "</div>"
      ],
      "text/plain": [
       "            LoanStatNew                                        Description\n",
       "0        acc_now_delinq  The number of accounts on which the borrower i...\n",
       "1  acc_open_past_24mths         Number of trades opened in past 24 months.\n",
       "2            addr_state  The state provided by the borrower in the loan...\n",
       "3              all_util              Balance to credit limit on all trades\n",
       "4            annual_inc  The self-reported annual income provided by th..."
      ]
     },
     "execution_count": 7,
     "metadata": {},
     "output_type": "execute_result"
    }
   ],
   "source": [
    "col_desc = pd.read_excel(\"LCDataDictionary.xlsx\", sheet_name=\"LoanStats\")\n",
    "col_desc.head(5)"
   ]
  },
  {
   "cell_type": "markdown",
   "metadata": {},
   "source": [
    "Our explained variable is in column *loan_status*. We will now look what the column actually contains."
   ]
  },
  {
   "cell_type": "code",
   "execution_count": 8,
   "metadata": {},
   "outputs": [
    {
     "data": {
      "text/plain": [
       "Fully Paid                                             1041952\n",
       "Current                                                 919695\n",
       "Charged Off                                             261655\n",
       "Late (31-120 days)                                       21897\n",
       "In Grace Period                                           8952\n",
       "Late (16-30 days)                                         3737\n",
       "Does not meet the credit policy. Status:Fully Paid        1988\n",
       "Does not meet the credit policy. Status:Charged Off        761\n",
       "Default                                                     31\n",
       "Name: loan_status, dtype: int64"
      ]
     },
     "execution_count": 8,
     "metadata": {},
     "output_type": "execute_result"
    }
   ],
   "source": [
    "data.loan_status.value_counts()"
   ]
  },
  {
   "cell_type": "markdown",
   "metadata": {},
   "source": [
    "We are interested in loans that already finished (there are no more payments to be expected), so we will leave only rows in which the loan status is *Fully Paid* or *Default*. We will also concatenate *Charged Off* and *Default* as we believe clients who have the loan status *Charged Off* are just as big credit risk as those with default. "
   ]
  },
  {
   "cell_type": "code",
   "execution_count": 9,
   "metadata": {},
   "outputs": [],
   "source": [
    "data['loan_status'] = data['loan_status'].replace({'Charged Off':'Default'})\n",
    "data = data[np.any([data.loan_status == 'Default', data.loan_status == 'Fully Paid'], axis=0)]"
   ]
  },
  {
   "cell_type": "markdown",
   "metadata": {},
   "source": [
    "Now, we will look at distribution of loan status in our dataset."
   ]
  },
  {
   "cell_type": "code",
   "execution_count": 10,
   "metadata": {},
   "outputs": [
    {
     "data": {
      "image/png": "[encoded data removed]",
      "text/plain": [
       "<Figure size 1440x576 with 1 Axes>"
      ]
     },
     "metadata": {
      "needs_background": "light"
     },
     "output_type": "display_data"
    }
   ],
   "source": [
    "m = data['loan_status'].value_counts()\n",
    "m = m.to_frame()\n",
    "m.reset_index(inplace=True)\n",
    "m.columns = ['Loan Status','Count']\n",
    "plt.subplots(figsize=(20,8))\n",
    "sns.barplot(y='Count', x='Loan Status', data=m)\n",
    "plt.xlabel(\"Length\")\n",
    "plt.ylabel(\"Count\")\n",
    "plt.title(\"Distribution of Loan Status in our Dataset\")\n",
    "plt.show()"
   ]
  },
  {
   "cell_type": "markdown",
   "metadata": {},
   "source": [
    "Our data is clearly imbalanced. To deal with that problem, we could use over/undersampling. However, these methods do not always work and even if they do, they might work differently with different algorithms. Therefore we decided to leave the dataset as it is and we will see which method works the best for imbalanced data.."
   ]
  },
  {
   "cell_type": "markdown",
   "metadata": {},
   "source": [
    "# 2. Data preparation"
   ]
  },
  {
   "cell_type": "markdown",
   "metadata": {},
   "source": [
    "## 2.1. Data cleaning"
   ]
  },
  {
   "cell_type": "markdown",
   "metadata": {},
   "source": [
    "Unfortunately, our dataset contains a lot of missing values. We will try now to deal with them."
   ]
  },
  {
   "cell_type": "code",
   "execution_count": 11,
   "metadata": {},
   "outputs": [
    {
     "data": {
      "text/html": [
       "<div>\n",
       "<style scoped>\n",
       "    .dataframe tbody tr th:only-of-type {\n",
       "        vertical-align: middle;\n",
       "    }\n",
       "\n",
       "    .dataframe tbody tr th {\n",
       "        vertical-align: top;\n",
       "    }\n",
       "\n",
       "    .dataframe thead th {\n",
       "        text-align: right;\n",
       "    }\n",
       "</style>\n",
       "<table border=\"1\" class=\"dataframe\">\n",
       "  <thead>\n",
       "    <tr style=\"text-align: right;\">\n",
       "      <th></th>\n",
       "      <th>Count</th>\n",
       "      <th>Percent</th>\n",
       "      <th>Description</th>\n",
       "    </tr>\n",
       "  </thead>\n",
       "  <tbody>\n",
       "    <tr>\n",
       "      <th>id</th>\n",
       "      <td>1303638</td>\n",
       "      <td>100.000000</td>\n",
       "      <td>A unique LC assigned ID for the loan listing.</td>\n",
       "    </tr>\n",
       "    <tr>\n",
       "      <th>url</th>\n",
       "      <td>1303638</td>\n",
       "      <td>100.000000</td>\n",
       "      <td>URL for the LC page with listing data.</td>\n",
       "    </tr>\n",
       "    <tr>\n",
       "      <th>member_id</th>\n",
       "      <td>1303638</td>\n",
       "      <td>100.000000</td>\n",
       "      <td>A unique LC assigned Id for the borrower member.</td>\n",
       "    </tr>\n",
       "    <tr>\n",
       "      <th>next_pymnt_d</th>\n",
       "      <td>1303607</td>\n",
       "      <td>99.997622</td>\n",
       "      <td>Next scheduled payment date</td>\n",
       "    </tr>\n",
       "    <tr>\n",
       "      <th>orig_projected_additional_accrued_interest</th>\n",
       "      <td>1300205</td>\n",
       "      <td>99.736660</td>\n",
       "      <td>The original projected additional interest amo...</td>\n",
       "    </tr>\n",
       "    <tr>\n",
       "      <th>hardship_last_payment_amount</th>\n",
       "      <td>1298303</td>\n",
       "      <td>99.590761</td>\n",
       "      <td>The last payment amount as of the hardship pla...</td>\n",
       "    </tr>\n",
       "    <tr>\n",
       "      <th>hardship_start_date</th>\n",
       "      <td>1298303</td>\n",
       "      <td>99.590761</td>\n",
       "      <td>The start date of the hardship plan period</td>\n",
       "    </tr>\n",
       "    <tr>\n",
       "      <th>hardship_type</th>\n",
       "      <td>1298303</td>\n",
       "      <td>99.590761</td>\n",
       "      <td>Describes the hardship plan offering</td>\n",
       "    </tr>\n",
       "    <tr>\n",
       "      <th>hardship_reason</th>\n",
       "      <td>1298303</td>\n",
       "      <td>99.590761</td>\n",
       "      <td>Describes the reason the hardship plan was off...</td>\n",
       "    </tr>\n",
       "    <tr>\n",
       "      <th>hardship_payoff_balance_amount</th>\n",
       "      <td>1298303</td>\n",
       "      <td>99.590761</td>\n",
       "      <td>The payoff balance amount as of the hardship p...</td>\n",
       "    </tr>\n",
       "    <tr>\n",
       "      <th>hardship_amount</th>\n",
       "      <td>1298303</td>\n",
       "      <td>99.590761</td>\n",
       "      <td>The interest payment that the borrower has com...</td>\n",
       "    </tr>\n",
       "    <tr>\n",
       "      <th>hardship_status</th>\n",
       "      <td>1298303</td>\n",
       "      <td>99.590761</td>\n",
       "      <td>Describes if the hardship plan is active, pend...</td>\n",
       "    </tr>\n",
       "    <tr>\n",
       "      <th>hardship_end_date</th>\n",
       "      <td>1298303</td>\n",
       "      <td>99.590761</td>\n",
       "      <td>The end date of the hardship plan period</td>\n",
       "    </tr>\n",
       "    <tr>\n",
       "      <th>payment_plan_start_date</th>\n",
       "      <td>1298303</td>\n",
       "      <td>99.590761</td>\n",
       "      <td>The day the first hardship plan payment is due...</td>\n",
       "    </tr>\n",
       "    <tr>\n",
       "      <th>hardship_length</th>\n",
       "      <td>1298303</td>\n",
       "      <td>99.590761</td>\n",
       "      <td>The number of months the borrower will make sm...</td>\n",
       "    </tr>\n",
       "    <tr>\n",
       "      <th>hardship_dpd</th>\n",
       "      <td>1298303</td>\n",
       "      <td>99.590761</td>\n",
       "      <td>Account days past due as of the hardship plan ...</td>\n",
       "    </tr>\n",
       "    <tr>\n",
       "      <th>hardship_loan_status</th>\n",
       "      <td>1298303</td>\n",
       "      <td>99.590761</td>\n",
       "      <td>Loan Status as of the hardship plan start date</td>\n",
       "    </tr>\n",
       "    <tr>\n",
       "      <th>deferral_term</th>\n",
       "      <td>1298303</td>\n",
       "      <td>99.590761</td>\n",
       "      <td>Amount of months that the borrower is expected...</td>\n",
       "    </tr>\n",
       "    <tr>\n",
       "      <th>sec_app_mths_since_last_major_derog</th>\n",
       "      <td>1297702</td>\n",
       "      <td>99.544659</td>\n",
       "      <td>NaN</td>\n",
       "    </tr>\n",
       "    <tr>\n",
       "      <th>sec_app_revol_util</th>\n",
       "      <td>1287415</td>\n",
       "      <td>98.755559</td>\n",
       "      <td>NaN</td>\n",
       "    </tr>\n",
       "    <tr>\n",
       "      <th>revol_bal_joint</th>\n",
       "      <td>1287122</td>\n",
       "      <td>98.733084</td>\n",
       "      <td>NaN</td>\n",
       "    </tr>\n",
       "    <tr>\n",
       "      <th>sec_app_collections_12_mths_ex_med</th>\n",
       "      <td>1287121</td>\n",
       "      <td>98.733007</td>\n",
       "      <td>NaN</td>\n",
       "    </tr>\n",
       "    <tr>\n",
       "      <th>sec_app_chargeoff_within_12_mths</th>\n",
       "      <td>1287121</td>\n",
       "      <td>98.733007</td>\n",
       "      <td>NaN</td>\n",
       "    </tr>\n",
       "    <tr>\n",
       "      <th>sec_app_num_rev_accts</th>\n",
       "      <td>1287121</td>\n",
       "      <td>98.733007</td>\n",
       "      <td>NaN</td>\n",
       "    </tr>\n",
       "    <tr>\n",
       "      <th>sec_app_open_act_il</th>\n",
       "      <td>1287121</td>\n",
       "      <td>98.733007</td>\n",
       "      <td>Number of currently active installment trades...</td>\n",
       "    </tr>\n",
       "    <tr>\n",
       "      <th>sec_app_open_acc</th>\n",
       "      <td>1287121</td>\n",
       "      <td>98.733007</td>\n",
       "      <td>NaN</td>\n",
       "    </tr>\n",
       "    <tr>\n",
       "      <th>sec_app_mort_acc</th>\n",
       "      <td>1287121</td>\n",
       "      <td>98.733007</td>\n",
       "      <td>NaN</td>\n",
       "    </tr>\n",
       "    <tr>\n",
       "      <th>sec_app_inq_last_6mths</th>\n",
       "      <td>1287121</td>\n",
       "      <td>98.733007</td>\n",
       "      <td>NaN</td>\n",
       "    </tr>\n",
       "    <tr>\n",
       "      <th>sec_app_earliest_cr_line</th>\n",
       "      <td>1287121</td>\n",
       "      <td>98.733007</td>\n",
       "      <td>NaN</td>\n",
       "    </tr>\n",
       "    <tr>\n",
       "      <th>verification_status_joint</th>\n",
       "      <td>1280540</td>\n",
       "      <td>98.228189</td>\n",
       "      <td>NaN</td>\n",
       "    </tr>\n",
       "    <tr>\n",
       "      <th>dti_joint</th>\n",
       "      <td>1280396</td>\n",
       "      <td>98.217143</td>\n",
       "      <td>A ratio calculated using the co-borrowers' tot...</td>\n",
       "    </tr>\n",
       "    <tr>\n",
       "      <th>annual_inc_joint</th>\n",
       "      <td>1280394</td>\n",
       "      <td>98.216990</td>\n",
       "      <td>The combined self-reported annual income provi...</td>\n",
       "    </tr>\n",
       "    <tr>\n",
       "      <th>settlement_term</th>\n",
       "      <td>1271645</td>\n",
       "      <td>97.545868</td>\n",
       "      <td>The number of months that the borrower will be...</td>\n",
       "    </tr>\n",
       "    <tr>\n",
       "      <th>settlement_percentage</th>\n",
       "      <td>1271645</td>\n",
       "      <td>97.545868</td>\n",
       "      <td>The settlement amount as a percentage of the p...</td>\n",
       "    </tr>\n",
       "    <tr>\n",
       "      <th>settlement_amount</th>\n",
       "      <td>1271645</td>\n",
       "      <td>97.545868</td>\n",
       "      <td>The loan amount that the borrower has agreed t...</td>\n",
       "    </tr>\n",
       "    <tr>\n",
       "      <th>settlement_date</th>\n",
       "      <td>1271645</td>\n",
       "      <td>97.545868</td>\n",
       "      <td>The date that the borrower agrees to the settl...</td>\n",
       "    </tr>\n",
       "    <tr>\n",
       "      <th>settlement_status</th>\n",
       "      <td>1271645</td>\n",
       "      <td>97.545868</td>\n",
       "      <td>The status of the borrower’s settlement plan. ...</td>\n",
       "    </tr>\n",
       "    <tr>\n",
       "      <th>debt_settlement_flag_date</th>\n",
       "      <td>1271645</td>\n",
       "      <td>97.545868</td>\n",
       "      <td>The most recent date that the Debt_Settlement_...</td>\n",
       "    </tr>\n",
       "    <tr>\n",
       "      <th>desc</th>\n",
       "      <td>1180311</td>\n",
       "      <td>90.539782</td>\n",
       "      <td>Loan description provided by the borrower</td>\n",
       "    </tr>\n",
       "    <tr>\n",
       "      <th>mths_since_last_record</th>\n",
       "      <td>1081865</td>\n",
       "      <td>82.988145</td>\n",
       "      <td>The number of months since the last public rec...</td>\n",
       "    </tr>\n",
       "    <tr>\n",
       "      <th>mths_since_recent_bc_dlq</th>\n",
       "      <td>994481</td>\n",
       "      <td>76.285058</td>\n",
       "      <td>Months since most recent bankcard delinquency</td>\n",
       "    </tr>\n",
       "    <tr>\n",
       "      <th>mths_since_last_major_derog</th>\n",
       "      <td>961259</td>\n",
       "      <td>73.736651</td>\n",
       "      <td>Months since most recent 90-day or worse rating</td>\n",
       "    </tr>\n",
       "    <tr>\n",
       "      <th>il_util</th>\n",
       "      <td>870943</td>\n",
       "      <td>66.808654</td>\n",
       "      <td>Ratio of total current balance to high credit/...</td>\n",
       "    </tr>\n",
       "    <tr>\n",
       "      <th>mths_since_recent_revol_delinq</th>\n",
       "      <td>867789</td>\n",
       "      <td>66.566716</td>\n",
       "      <td>Months since most recent revolving delinquency.</td>\n",
       "    </tr>\n",
       "    <tr>\n",
       "      <th>mths_since_rcnt_il</th>\n",
       "      <td>817059</td>\n",
       "      <td>62.675298</td>\n",
       "      <td>Months since most recent installment accounts ...</td>\n",
       "    </tr>\n",
       "    <tr>\n",
       "      <th>all_util</th>\n",
       "      <td>804113</td>\n",
       "      <td>61.682231</td>\n",
       "      <td>Balance to credit limit on all trades</td>\n",
       "    </tr>\n",
       "    <tr>\n",
       "      <th>open_acc_6m</th>\n",
       "      <td>804063</td>\n",
       "      <td>61.678395</td>\n",
       "      <td>Number of open trades in last 6 months</td>\n",
       "    </tr>\n",
       "    <tr>\n",
       "      <th>total_cu_tl</th>\n",
       "      <td>804063</td>\n",
       "      <td>61.678395</td>\n",
       "      <td>Number of finance trades</td>\n",
       "    </tr>\n",
       "    <tr>\n",
       "      <th>inq_last_12m</th>\n",
       "      <td>804063</td>\n",
       "      <td>61.678395</td>\n",
       "      <td>Number of credit inquiries in past 12 months</td>\n",
       "    </tr>\n",
       "    <tr>\n",
       "      <th>open_il_12m</th>\n",
       "      <td>804062</td>\n",
       "      <td>61.678319</td>\n",
       "      <td>Number of installment accounts opened in past ...</td>\n",
       "    </tr>\n",
       "    <tr>\n",
       "      <th>open_il_24m</th>\n",
       "      <td>804062</td>\n",
       "      <td>61.678319</td>\n",
       "      <td>Number of installment accounts opened in past ...</td>\n",
       "    </tr>\n",
       "    <tr>\n",
       "      <th>total_bal_il</th>\n",
       "      <td>804062</td>\n",
       "      <td>61.678319</td>\n",
       "      <td>Total current balance of all installment accounts</td>\n",
       "    </tr>\n",
       "    <tr>\n",
       "      <th>open_rv_12m</th>\n",
       "      <td>804062</td>\n",
       "      <td>61.678319</td>\n",
       "      <td>Number of revolving trades opened in past 12 m...</td>\n",
       "    </tr>\n",
       "    <tr>\n",
       "      <th>open_rv_24m</th>\n",
       "      <td>804062</td>\n",
       "      <td>61.678319</td>\n",
       "      <td>Number of revolving trades opened in past 24 m...</td>\n",
       "    </tr>\n",
       "    <tr>\n",
       "      <th>max_bal_bc</th>\n",
       "      <td>804062</td>\n",
       "      <td>61.678319</td>\n",
       "      <td>Maximum current balance owed on all revolving ...</td>\n",
       "    </tr>\n",
       "    <tr>\n",
       "      <th>inq_fi</th>\n",
       "      <td>804062</td>\n",
       "      <td>61.678319</td>\n",
       "      <td>Number of personal finance inquiries</td>\n",
       "    </tr>\n",
       "    <tr>\n",
       "      <th>open_act_il</th>\n",
       "      <td>804062</td>\n",
       "      <td>61.678319</td>\n",
       "      <td>Number of currently active installment trades</td>\n",
       "    </tr>\n",
       "    <tr>\n",
       "      <th>mths_since_last_delinq</th>\n",
       "      <td>657833</td>\n",
       "      <td>50.461324</td>\n",
       "      <td>The number of months since the borrower's last...</td>\n",
       "    </tr>\n",
       "    <tr>\n",
       "      <th>mths_since_recent_inq</th>\n",
       "      <td>169552</td>\n",
       "      <td>13.006065</td>\n",
       "      <td>Months since most recent inquiry.</td>\n",
       "    </tr>\n",
       "  </tbody>\n",
       "</table>\n",
       "</div>"
      ],
      "text/plain": [
       "                                              Count     Percent  \\\n",
       "id                                          1303638  100.000000   \n",
       "url                                         1303638  100.000000   \n",
       "member_id                                   1303638  100.000000   \n",
       "next_pymnt_d                                1303607   99.997622   \n",
       "orig_projected_additional_accrued_interest  1300205   99.736660   \n",
       "hardship_last_payment_amount                1298303   99.590761   \n",
       "hardship_start_date                         1298303   99.590761   \n",
       "hardship_type                               1298303   99.590761   \n",
       "hardship_reason                             1298303   99.590761   \n",
       "hardship_payoff_balance_amount              1298303   99.590761   \n",
       "hardship_amount                             1298303   99.590761   \n",
       "hardship_status                             1298303   99.590761   \n",
       "hardship_end_date                           1298303   99.590761   \n",
       "payment_plan_start_date                     1298303   99.590761   \n",
       "hardship_length                             1298303   99.590761   \n",
       "hardship_dpd                                1298303   99.590761   \n",
       "hardship_loan_status                        1298303   99.590761   \n",
       "deferral_term                               1298303   99.590761   \n",
       "sec_app_mths_since_last_major_derog         1297702   99.544659   \n",
       "sec_app_revol_util                          1287415   98.755559   \n",
       "revol_bal_joint                             1287122   98.733084   \n",
       "sec_app_collections_12_mths_ex_med          1287121   98.733007   \n",
       "sec_app_chargeoff_within_12_mths            1287121   98.733007   \n",
       "sec_app_num_rev_accts                       1287121   98.733007   \n",
       "sec_app_open_act_il                         1287121   98.733007   \n",
       "sec_app_open_acc                            1287121   98.733007   \n",
       "sec_app_mort_acc                            1287121   98.733007   \n",
       "sec_app_inq_last_6mths                      1287121   98.733007   \n",
       "sec_app_earliest_cr_line                    1287121   98.733007   \n",
       "verification_status_joint                   1280540   98.228189   \n",
       "dti_joint                                   1280396   98.217143   \n",
       "annual_inc_joint                            1280394   98.216990   \n",
       "settlement_term                             1271645   97.545868   \n",
       "settlement_percentage                       1271645   97.545868   \n",
       "settlement_amount                           1271645   97.545868   \n",
       "settlement_date                             1271645   97.545868   \n",
       "settlement_status                           1271645   97.545868   \n",
       "debt_settlement_flag_date                   1271645   97.545868   \n",
       "desc                                        1180311   90.539782   \n",
       "mths_since_last_record                      1081865   82.988145   \n",
       "mths_since_recent_bc_dlq                     994481   76.285058   \n",
       "mths_since_last_major_derog                  961259   73.736651   \n",
       "il_util                                      870943   66.808654   \n",
       "mths_since_recent_revol_delinq               867789   66.566716   \n",
       "mths_since_rcnt_il                           817059   62.675298   \n",
       "all_util                                     804113   61.682231   \n",
       "open_acc_6m                                  804063   61.678395   \n",
       "total_cu_tl                                  804063   61.678395   \n",
       "inq_last_12m                                 804063   61.678395   \n",
       "open_il_12m                                  804062   61.678319   \n",
       "open_il_24m                                  804062   61.678319   \n",
       "total_bal_il                                 804062   61.678319   \n",
       "open_rv_12m                                  804062   61.678319   \n",
       "open_rv_24m                                  804062   61.678319   \n",
       "max_bal_bc                                   804062   61.678319   \n",
       "inq_fi                                       804062   61.678319   \n",
       "open_act_il                                  804062   61.678319   \n",
       "mths_since_last_delinq                       657833   50.461324   \n",
       "mths_since_recent_inq                        169552   13.006065   \n",
       "\n",
       "                                                                                  Description  \n",
       "id                                              A unique LC assigned ID for the loan listing.  \n",
       "url                                                    URL for the LC page with listing data.  \n",
       "member_id                                    A unique LC assigned Id for the borrower member.  \n",
       "next_pymnt_d                                                      Next scheduled payment date  \n",
       "orig_projected_additional_accrued_interest  The original projected additional interest amo...  \n",
       "hardship_last_payment_amount                The last payment amount as of the hardship pla...  \n",
       "hardship_start_date                                The start date of the hardship plan period  \n",
       "hardship_type                                            Describes the hardship plan offering  \n",
       "hardship_reason                             Describes the reason the hardship plan was off...  \n",
       "hardship_payoff_balance_amount              The payoff balance amount as of the hardship p...  \n",
       "hardship_amount                             The interest payment that the borrower has com...  \n",
       "hardship_status                             Describes if the hardship plan is active, pend...  \n",
       "hardship_end_date                                    The end date of the hardship plan period  \n",
       "payment_plan_start_date                     The day the first hardship plan payment is due...  \n",
       "hardship_length                             The number of months the borrower will make sm...  \n",
       "hardship_dpd                                Account days past due as of the hardship plan ...  \n",
       "hardship_loan_status                           Loan Status as of the hardship plan start date  \n",
       "deferral_term                               Amount of months that the borrower is expected...  \n",
       "sec_app_mths_since_last_major_derog                                                       NaN  \n",
       "sec_app_revol_util                                                                        NaN  \n",
       "revol_bal_joint                                                                           NaN  \n",
       "sec_app_collections_12_mths_ex_med                                                        NaN  \n",
       "sec_app_chargeoff_within_12_mths                                                          NaN  \n",
       "sec_app_num_rev_accts                                                                     NaN  \n",
       "sec_app_open_act_il                          Number of currently active installment trades...  \n",
       "sec_app_open_acc                                                                          NaN  \n",
       "sec_app_mort_acc                                                                          NaN  \n",
       "sec_app_inq_last_6mths                                                                    NaN  \n",
       "sec_app_earliest_cr_line                                                                  NaN  \n",
       "verification_status_joint                                                                 NaN  \n",
       "dti_joint                                   A ratio calculated using the co-borrowers' tot...  \n",
       "annual_inc_joint                            The combined self-reported annual income provi...  \n",
       "settlement_term                             The number of months that the borrower will be...  \n",
       "settlement_percentage                       The settlement amount as a percentage of the p...  \n",
       "settlement_amount                           The loan amount that the borrower has agreed t...  \n",
       "settlement_date                             The date that the borrower agrees to the settl...  \n",
       "settlement_status                           The status of the borrower’s settlement plan. ...  \n",
       "debt_settlement_flag_date                   The most recent date that the Debt_Settlement_...  \n",
       "desc                                                Loan description provided by the borrower  \n",
       "mths_since_last_record                      The number of months since the last public rec...  \n",
       "mths_since_recent_bc_dlq                        Months since most recent bankcard delinquency  \n",
       "mths_since_last_major_derog                   Months since most recent 90-day or worse rating  \n",
       "il_util                                     Ratio of total current balance to high credit/...  \n",
       "mths_since_recent_revol_delinq                Months since most recent revolving delinquency.  \n",
       "mths_since_rcnt_il                          Months since most recent installment accounts ...  \n",
       "all_util                                                Balance to credit limit on all trades  \n",
       "open_acc_6m                                            Number of open trades in last 6 months  \n",
       "total_cu_tl                                                          Number of finance trades  \n",
       "inq_last_12m                                     Number of credit inquiries in past 12 months  \n",
       "open_il_12m                                 Number of installment accounts opened in past ...  \n",
       "open_il_24m                                 Number of installment accounts opened in past ...  \n",
       "total_bal_il                                Total current balance of all installment accounts  \n",
       "open_rv_12m                                 Number of revolving trades opened in past 12 m...  \n",
       "open_rv_24m                                 Number of revolving trades opened in past 24 m...  \n",
       "max_bal_bc                                  Maximum current balance owed on all revolving ...  \n",
       "inq_fi                                                   Number of personal finance inquiries  \n",
       "open_act_il                                     Number of currently active installment trades  \n",
       "mths_since_last_delinq                      The number of months since the borrower's last...  \n",
       "mths_since_recent_inq                                       Months since most recent inquiry.  "
      ]
     },
     "execution_count": 11,
     "metadata": {},
     "output_type": "execute_result"
    }
   ],
   "source": [
    "missings = pd.DataFrame({'Count': data.isnull().sum(), 'Percent': 100*data.isnull().sum()/len(data)})\n",
    "missings['LoanStatNew'] = list(missings.index)\n",
    "missings = missings.join(col_desc.set_index('LoanStatNew'), on='LoanStatNew')\n",
    "missings = missings.drop(columns='LoanStatNew')\n",
    "missings[missings['Percent'] > 10].sort_values(by=['Percent'], ascending=False) "
   ]
  },
  {
   "cell_type": "markdown",
   "metadata": {},
   "source": [
    "Firstly, we will fill in the columns *hardship_status* and *hardship_reason* as no data there means that there was no hardship plan. "
   ]
  },
  {
   "cell_type": "code",
   "execution_count": 12,
   "metadata": {},
   "outputs": [],
   "source": [
    "data.hardship_status = data.hardship_status.fillna(\"NO_HARDSHIP\")\n",
    "data.hardship_reason = data.hardship_reason.fillna(\"NO_HARDSHIP\")"
   ]
  },
  {
   "cell_type": "code",
   "execution_count": 13,
   "metadata": {},
   "outputs": [
    {
     "data": {
      "text/html": [
       "<div>\n",
       "<style scoped>\n",
       "    .dataframe tbody tr th:only-of-type {\n",
       "        vertical-align: middle;\n",
       "    }\n",
       "\n",
       "    .dataframe tbody tr th {\n",
       "        vertical-align: top;\n",
       "    }\n",
       "\n",
       "    .dataframe thead th {\n",
       "        text-align: right;\n",
       "    }\n",
       "</style>\n",
       "<table border=\"1\" class=\"dataframe\">\n",
       "  <thead>\n",
       "    <tr style=\"text-align: right;\">\n",
       "      <th>loan_status</th>\n",
       "      <th>Default</th>\n",
       "      <th>Fully Paid</th>\n",
       "    </tr>\n",
       "    <tr>\n",
       "      <th>hardship_status</th>\n",
       "      <th></th>\n",
       "      <th></th>\n",
       "    </tr>\n",
       "  </thead>\n",
       "  <tbody>\n",
       "    <tr>\n",
       "      <th>ACTIVE</th>\n",
       "      <td>1</td>\n",
       "      <td>0</td>\n",
       "    </tr>\n",
       "    <tr>\n",
       "      <th>BROKEN</th>\n",
       "      <td>1813</td>\n",
       "      <td>89</td>\n",
       "    </tr>\n",
       "    <tr>\n",
       "      <th>COMPLETED</th>\n",
       "      <td>2003</td>\n",
       "      <td>1429</td>\n",
       "    </tr>\n",
       "    <tr>\n",
       "      <th>NO_HARDSHIP</th>\n",
       "      <td>257869</td>\n",
       "      <td>1040434</td>\n",
       "    </tr>\n",
       "  </tbody>\n",
       "</table>\n",
       "</div>"
      ],
      "text/plain": [
       "loan_status      Default  Fully Paid\n",
       "hardship_status                     \n",
       "ACTIVE                 1           0\n",
       "BROKEN              1813          89\n",
       "COMPLETED           2003        1429\n",
       "NO_HARDSHIP       257869     1040434"
      ]
     },
     "execution_count": 13,
     "metadata": {},
     "output_type": "execute_result"
    }
   ],
   "source": [
    "pd.crosstab(data.hardship_status, data.loan_status)"
   ]
  },
  {
   "cell_type": "code",
   "execution_count": 14,
   "metadata": {},
   "outputs": [
    {
     "data": {
      "text/html": [
       "<div>\n",
       "<style scoped>\n",
       "    .dataframe tbody tr th:only-of-type {\n",
       "        vertical-align: middle;\n",
       "    }\n",
       "\n",
       "    .dataframe tbody tr th {\n",
       "        vertical-align: top;\n",
       "    }\n",
       "\n",
       "    .dataframe thead th {\n",
       "        text-align: right;\n",
       "    }\n",
       "</style>\n",
       "<table border=\"1\" class=\"dataframe\">\n",
       "  <thead>\n",
       "    <tr style=\"text-align: right;\">\n",
       "      <th>loan_status</th>\n",
       "      <th>Default</th>\n",
       "      <th>Fully Paid</th>\n",
       "    </tr>\n",
       "    <tr>\n",
       "      <th>hardship_reason</th>\n",
       "      <th></th>\n",
       "      <th></th>\n",
       "    </tr>\n",
       "  </thead>\n",
       "  <tbody>\n",
       "    <tr>\n",
       "      <th>DISABILITY</th>\n",
       "      <td>69</td>\n",
       "      <td>19</td>\n",
       "    </tr>\n",
       "    <tr>\n",
       "      <th>DIVORCE</th>\n",
       "      <td>106</td>\n",
       "      <td>27</td>\n",
       "    </tr>\n",
       "    <tr>\n",
       "      <th>EXCESSIVE_OBLIGATIONS</th>\n",
       "      <td>758</td>\n",
       "      <td>229</td>\n",
       "    </tr>\n",
       "    <tr>\n",
       "      <th>FAMILY_DEATH</th>\n",
       "      <td>65</td>\n",
       "      <td>27</td>\n",
       "    </tr>\n",
       "    <tr>\n",
       "      <th>INCOME_CURTAILMENT</th>\n",
       "      <td>513</td>\n",
       "      <td>121</td>\n",
       "    </tr>\n",
       "    <tr>\n",
       "      <th>MEDICAL</th>\n",
       "      <td>474</td>\n",
       "      <td>132</td>\n",
       "    </tr>\n",
       "    <tr>\n",
       "      <th>NATURAL_DISASTER</th>\n",
       "      <td>739</td>\n",
       "      <td>767</td>\n",
       "    </tr>\n",
       "    <tr>\n",
       "      <th>NO_HARDSHIP</th>\n",
       "      <td>257869</td>\n",
       "      <td>1040434</td>\n",
       "    </tr>\n",
       "    <tr>\n",
       "      <th>REDUCED_HOURS</th>\n",
       "      <td>254</td>\n",
       "      <td>56</td>\n",
       "    </tr>\n",
       "    <tr>\n",
       "      <th>UNEMPLOYMENT</th>\n",
       "      <td>839</td>\n",
       "      <td>140</td>\n",
       "    </tr>\n",
       "  </tbody>\n",
       "</table>\n",
       "</div>"
      ],
      "text/plain": [
       "loan_status            Default  Fully Paid\n",
       "hardship_reason                           \n",
       "DISABILITY                  69          19\n",
       "DIVORCE                    106          27\n",
       "EXCESSIVE_OBLIGATIONS      758         229\n",
       "FAMILY_DEATH                65          27\n",
       "INCOME_CURTAILMENT         513         121\n",
       "MEDICAL                    474         132\n",
       "NATURAL_DISASTER           739         767\n",
       "NO_HARDSHIP             257869     1040434\n",
       "REDUCED_HOURS              254          56\n",
       "UNEMPLOYMENT               839         140"
      ]
     },
     "execution_count": 14,
     "metadata": {},
     "output_type": "execute_result"
    }
   ],
   "source": [
    "pd.crosstab(data.hardship_reason, data.loan_status)"
   ]
  },
  {
   "cell_type": "markdown",
   "metadata": {},
   "source": [
    "We can see that hardship status and hardship reason might be an important factor in assessing whether someone is a defaulter. Fortunately, having filled the blanks, we will be able to use that in our analysis.\n",
    "\n",
    "However, that still leaves us with a lot of missing data. We decided to drop columns where missing data is more than 10% as it is difficult to impute data when there are so many missing (for most of to-be-deleted columns the frequency of Nas is more than 95%!)."
   ]
  },
  {
   "cell_type": "code",
   "execution_count": 15,
   "metadata": {},
   "outputs": [],
   "source": [
    "data1 = data.dropna(axis=1, thresh=int(0.90*len(data))).copy()"
   ]
  },
  {
   "cell_type": "code",
   "execution_count": 16,
   "metadata": {},
   "outputs": [
    {
     "data": {
      "text/html": [
       "<div>\n",
       "<style scoped>\n",
       "    .dataframe tbody tr th:only-of-type {\n",
       "        vertical-align: middle;\n",
       "    }\n",
       "\n",
       "    .dataframe tbody tr th {\n",
       "        vertical-align: top;\n",
       "    }\n",
       "\n",
       "    .dataframe thead th {\n",
       "        text-align: right;\n",
       "    }\n",
       "</style>\n",
       "<table border=\"1\" class=\"dataframe\">\n",
       "  <thead>\n",
       "    <tr style=\"text-align: right;\">\n",
       "      <th></th>\n",
       "      <th>loan_amnt</th>\n",
       "      <th>funded_amnt</th>\n",
       "      <th>funded_amnt_inv</th>\n",
       "      <th>term</th>\n",
       "      <th>int_rate</th>\n",
       "      <th>installment</th>\n",
       "      <th>grade</th>\n",
       "      <th>sub_grade</th>\n",
       "      <th>emp_title</th>\n",
       "      <th>emp_length</th>\n",
       "      <th>...</th>\n",
       "      <th>tax_liens</th>\n",
       "      <th>tot_hi_cred_lim</th>\n",
       "      <th>total_bal_ex_mort</th>\n",
       "      <th>total_bc_limit</th>\n",
       "      <th>total_il_high_credit_limit</th>\n",
       "      <th>hardship_flag</th>\n",
       "      <th>hardship_reason</th>\n",
       "      <th>hardship_status</th>\n",
       "      <th>disbursement_method</th>\n",
       "      <th>debt_settlement_flag</th>\n",
       "    </tr>\n",
       "  </thead>\n",
       "  <tbody>\n",
       "    <tr>\n",
       "      <th>100</th>\n",
       "      <td>30000</td>\n",
       "      <td>30000</td>\n",
       "      <td>30000.0</td>\n",
       "      <td>36 months</td>\n",
       "      <td>22.35</td>\n",
       "      <td>1151.16</td>\n",
       "      <td>D</td>\n",
       "      <td>D5</td>\n",
       "      <td>Supervisor</td>\n",
       "      <td>5 years</td>\n",
       "      <td>...</td>\n",
       "      <td>0.0</td>\n",
       "      <td>527120.0</td>\n",
       "      <td>98453.0</td>\n",
       "      <td>28600.0</td>\n",
       "      <td>101984.0</td>\n",
       "      <td>N</td>\n",
       "      <td>NO_HARDSHIP</td>\n",
       "      <td>NO_HARDSHIP</td>\n",
       "      <td>Cash</td>\n",
       "      <td>N</td>\n",
       "    </tr>\n",
       "    <tr>\n",
       "      <th>152</th>\n",
       "      <td>40000</td>\n",
       "      <td>40000</td>\n",
       "      <td>40000.0</td>\n",
       "      <td>60 months</td>\n",
       "      <td>16.14</td>\n",
       "      <td>975.71</td>\n",
       "      <td>C</td>\n",
       "      <td>C4</td>\n",
       "      <td>Assistant to the Treasurer (Payroll)</td>\n",
       "      <td>&lt; 1 year</td>\n",
       "      <td>...</td>\n",
       "      <td>0.0</td>\n",
       "      <td>344802.0</td>\n",
       "      <td>161720.0</td>\n",
       "      <td>45700.0</td>\n",
       "      <td>167965.0</td>\n",
       "      <td>N</td>\n",
       "      <td>NO_HARDSHIP</td>\n",
       "      <td>NO_HARDSHIP</td>\n",
       "      <td>Cash</td>\n",
       "      <td>N</td>\n",
       "    </tr>\n",
       "    <tr>\n",
       "      <th>170</th>\n",
       "      <td>20000</td>\n",
       "      <td>20000</td>\n",
       "      <td>20000.0</td>\n",
       "      <td>36 months</td>\n",
       "      <td>7.56</td>\n",
       "      <td>622.68</td>\n",
       "      <td>A</td>\n",
       "      <td>A3</td>\n",
       "      <td>Teacher</td>\n",
       "      <td>10+ years</td>\n",
       "      <td>...</td>\n",
       "      <td>0.0</td>\n",
       "      <td>622183.0</td>\n",
       "      <td>71569.0</td>\n",
       "      <td>85100.0</td>\n",
       "      <td>74833.0</td>\n",
       "      <td>N</td>\n",
       "      <td>NO_HARDSHIP</td>\n",
       "      <td>NO_HARDSHIP</td>\n",
       "      <td>Cash</td>\n",
       "      <td>N</td>\n",
       "    </tr>\n",
       "    <tr>\n",
       "      <th>186</th>\n",
       "      <td>4500</td>\n",
       "      <td>4500</td>\n",
       "      <td>4500.0</td>\n",
       "      <td>36 months</td>\n",
       "      <td>11.31</td>\n",
       "      <td>147.99</td>\n",
       "      <td>B</td>\n",
       "      <td>B3</td>\n",
       "      <td>Accounts Examiner III</td>\n",
       "      <td>10+ years</td>\n",
       "      <td>...</td>\n",
       "      <td>0.0</td>\n",
       "      <td>53795.0</td>\n",
       "      <td>29137.0</td>\n",
       "      <td>15100.0</td>\n",
       "      <td>24595.0</td>\n",
       "      <td>N</td>\n",
       "      <td>NO_HARDSHIP</td>\n",
       "      <td>NO_HARDSHIP</td>\n",
       "      <td>Cash</td>\n",
       "      <td>N</td>\n",
       "    </tr>\n",
       "    <tr>\n",
       "      <th>215</th>\n",
       "      <td>8425</td>\n",
       "      <td>8425</td>\n",
       "      <td>8425.0</td>\n",
       "      <td>36 months</td>\n",
       "      <td>27.27</td>\n",
       "      <td>345.18</td>\n",
       "      <td>E</td>\n",
       "      <td>E5</td>\n",
       "      <td>Senior Director Risk Management</td>\n",
       "      <td>3 years</td>\n",
       "      <td>...</td>\n",
       "      <td>0.0</td>\n",
       "      <td>768304.0</td>\n",
       "      <td>189194.0</td>\n",
       "      <td>45800.0</td>\n",
       "      <td>189054.0</td>\n",
       "      <td>N</td>\n",
       "      <td>NO_HARDSHIP</td>\n",
       "      <td>NO_HARDSHIP</td>\n",
       "      <td>Cash</td>\n",
       "      <td>N</td>\n",
       "    </tr>\n",
       "  </tbody>\n",
       "</table>\n",
       "<p>5 rows × 88 columns</p>\n",
       "</div>"
      ],
      "text/plain": [
       "     loan_amnt  funded_amnt  funded_amnt_inv        term  int_rate  \\\n",
       "100      30000        30000          30000.0   36 months     22.35   \n",
       "152      40000        40000          40000.0   60 months     16.14   \n",
       "170      20000        20000          20000.0   36 months      7.56   \n",
       "186       4500         4500           4500.0   36 months     11.31   \n",
       "215       8425         8425           8425.0   36 months     27.27   \n",
       "\n",
       "     installment grade sub_grade                             emp_title  \\\n",
       "100      1151.16     D        D5                           Supervisor    \n",
       "152       975.71     C        C4  Assistant to the Treasurer (Payroll)   \n",
       "170       622.68     A        A3                               Teacher   \n",
       "186       147.99     B        B3                 Accounts Examiner III   \n",
       "215       345.18     E        E5       Senior Director Risk Management   \n",
       "\n",
       "    emp_length         ...          tax_liens  tot_hi_cred_lim  \\\n",
       "100    5 years         ...                0.0         527120.0   \n",
       "152   < 1 year         ...                0.0         344802.0   \n",
       "170  10+ years         ...                0.0         622183.0   \n",
       "186  10+ years         ...                0.0          53795.0   \n",
       "215    3 years         ...                0.0         768304.0   \n",
       "\n",
       "    total_bal_ex_mort total_bc_limit total_il_high_credit_limit hardship_flag  \\\n",
       "100           98453.0        28600.0                   101984.0             N   \n",
       "152          161720.0        45700.0                   167965.0             N   \n",
       "170           71569.0        85100.0                    74833.0             N   \n",
       "186           29137.0        15100.0                    24595.0             N   \n",
       "215          189194.0        45800.0                   189054.0             N   \n",
       "\n",
       "    hardship_reason hardship_status disbursement_method debt_settlement_flag  \n",
       "100     NO_HARDSHIP     NO_HARDSHIP                Cash                    N  \n",
       "152     NO_HARDSHIP     NO_HARDSHIP                Cash                    N  \n",
       "170     NO_HARDSHIP     NO_HARDSHIP                Cash                    N  \n",
       "186     NO_HARDSHIP     NO_HARDSHIP                Cash                    N  \n",
       "215     NO_HARDSHIP     NO_HARDSHIP                Cash                    N  \n",
       "\n",
       "[5 rows x 88 columns]"
      ]
     },
     "execution_count": 16,
     "metadata": {},
     "output_type": "execute_result"
    }
   ],
   "source": [
    "data1.head(5)"
   ]
  },
  {
   "cell_type": "markdown",
   "metadata": {},
   "source": [
    "Let's check how many rows with at least one missing value there are left."
   ]
  },
  {
   "cell_type": "code",
   "execution_count": 17,
   "metadata": {},
   "outputs": [
    {
     "data": {
      "text/plain": [
       "247369"
      ]
     },
     "execution_count": 17,
     "metadata": {},
     "output_type": "execute_result"
    }
   ],
   "source": [
    "nan_rows = data1.isnull().sum(axis = 1)\n",
    "nan_rows[nan_rows>0].count()"
   ]
  },
  {
   "cell_type": "markdown",
   "metadata": {},
   "source": [
    "Before we remove any rows, we will check the correlation matrix as some of the variables might be very strongly correlated and therefore we could remove one of them."
   ]
  },
  {
   "cell_type": "code",
   "execution_count": 18,
   "metadata": {},
   "outputs": [
    {
     "data": {
      "image/png": "[encoded data removed]",
      "text/plain": [
       "<Figure size 864x648 with 2 Axes>"
      ]
     },
     "metadata": {
      "needs_background": "light"
     },
     "output_type": "display_data"
    }
   ],
   "source": [
    "corrmat = data1.corr()\n",
    "f, ax = plt.subplots(figsize=(12, 9))\n",
    "sns.heatmap(corrmat, vmax=.8, square=True);"
   ]
  },
  {
   "cell_type": "markdown",
   "metadata": {},
   "source": [
    "Let's have a look through the most correlated variables.\n",
    "1. Num_sats (Number of satisfactory accounts) and open_acc (The number of open credit lines in the borrower's credit file) - We believe they concain almost the same information and we will drop num_sats.\n",
    "2. Funded_amnt, funded_amnt_inv and loan_amnt - the correlation is very big, so we will drop funded_amnt and funded_amnt_inv\n",
    "\n",
    "Additionally, policy code is 1 all the time - it does not bring any information. We will also drop this column."
   ]
  },
  {
   "cell_type": "code",
   "execution_count": 19,
   "metadata": {},
   "outputs": [],
   "source": [
    "data1.drop(columns = ['funded_amnt', 'funded_amnt_inv', 'num_sats', 'policy_code'], inplace = True)"
   ]
  },
  {
   "cell_type": "markdown",
   "metadata": {},
   "source": [
    "Now we will look at the rest of missing data."
   ]
  },
  {
   "cell_type": "code",
   "execution_count": 20,
   "metadata": {
    "scrolled": true
   },
   "outputs": [
    {
     "data": {
      "text/html": [
       "<div>\n",
       "<style scoped>\n",
       "    .dataframe tbody tr th:only-of-type {\n",
       "        vertical-align: middle;\n",
       "    }\n",
       "\n",
       "    .dataframe tbody tr th {\n",
       "        vertical-align: top;\n",
       "    }\n",
       "\n",
       "    .dataframe thead th {\n",
       "        text-align: right;\n",
       "    }\n",
       "</style>\n",
       "<table border=\"1\" class=\"dataframe\">\n",
       "  <thead>\n",
       "    <tr style=\"text-align: right;\">\n",
       "      <th></th>\n",
       "      <th>Count</th>\n",
       "      <th>Percent</th>\n",
       "      <th>Description</th>\n",
       "    </tr>\n",
       "  </thead>\n",
       "  <tbody>\n",
       "    <tr>\n",
       "      <th>emp_title</th>\n",
       "      <td>82582</td>\n",
       "      <td>6.334734</td>\n",
       "      <td>The job title supplied by the Borrower when ap...</td>\n",
       "    </tr>\n",
       "    <tr>\n",
       "      <th>emp_length</th>\n",
       "      <td>75457</td>\n",
       "      <td>5.788187</td>\n",
       "      <td>Employment length in years. Possible values ar...</td>\n",
       "    </tr>\n",
       "    <tr>\n",
       "      <th>title</th>\n",
       "      <td>15426</td>\n",
       "      <td>1.183304</td>\n",
       "      <td>The loan title provided by the borrower</td>\n",
       "    </tr>\n",
       "    <tr>\n",
       "      <th>zip_code</th>\n",
       "      <td>1</td>\n",
       "      <td>0.000077</td>\n",
       "      <td>The first 3 numbers of the zip code provided b...</td>\n",
       "    </tr>\n",
       "    <tr>\n",
       "      <th>dti</th>\n",
       "      <td>312</td>\n",
       "      <td>0.023933</td>\n",
       "      <td>A ratio calculated using the borrower’s total ...</td>\n",
       "    </tr>\n",
       "    <tr>\n",
       "      <th>inq_last_6mths</th>\n",
       "      <td>1</td>\n",
       "      <td>0.000077</td>\n",
       "      <td>The number of inquiries in past 6 months (excl...</td>\n",
       "    </tr>\n",
       "    <tr>\n",
       "      <th>revol_util</th>\n",
       "      <td>810</td>\n",
       "      <td>0.062134</td>\n",
       "      <td>Revolving line utilization rate, or the amount...</td>\n",
       "    </tr>\n",
       "    <tr>\n",
       "      <th>last_pymnt_d</th>\n",
       "      <td>2261</td>\n",
       "      <td>0.173438</td>\n",
       "      <td>Last month payment was received</td>\n",
       "    </tr>\n",
       "    <tr>\n",
       "      <th>last_credit_pull_d</th>\n",
       "      <td>54</td>\n",
       "      <td>0.004142</td>\n",
       "      <td>The most recent month LC pulled credit for thi...</td>\n",
       "    </tr>\n",
       "    <tr>\n",
       "      <th>collections_12_mths_ex_med</th>\n",
       "      <td>56</td>\n",
       "      <td>0.004296</td>\n",
       "      <td>Number of collections in 12 months excluding m...</td>\n",
       "    </tr>\n",
       "    <tr>\n",
       "      <th>tot_coll_amt</th>\n",
       "      <td>67527</td>\n",
       "      <td>5.179889</td>\n",
       "      <td>Total collection amounts ever owed</td>\n",
       "    </tr>\n",
       "    <tr>\n",
       "      <th>tot_cur_bal</th>\n",
       "      <td>67527</td>\n",
       "      <td>5.179889</td>\n",
       "      <td>Total current balance of all accounts</td>\n",
       "    </tr>\n",
       "    <tr>\n",
       "      <th>total_rev_hi_lim</th>\n",
       "      <td>67527</td>\n",
       "      <td>5.179889</td>\n",
       "      <td>NaN</td>\n",
       "    </tr>\n",
       "    <tr>\n",
       "      <th>acc_open_past_24mths</th>\n",
       "      <td>47281</td>\n",
       "      <td>3.626850</td>\n",
       "      <td>Number of trades opened in past 24 months.</td>\n",
       "    </tr>\n",
       "    <tr>\n",
       "      <th>avg_cur_bal</th>\n",
       "      <td>67548</td>\n",
       "      <td>5.181500</td>\n",
       "      <td>Average current balance of all accounts</td>\n",
       "    </tr>\n",
       "    <tr>\n",
       "      <th>bc_open_to_buy</th>\n",
       "      <td>60640</td>\n",
       "      <td>4.651598</td>\n",
       "      <td>Total open to buy on revolving bankcards.</td>\n",
       "    </tr>\n",
       "    <tr>\n",
       "      <th>bc_util</th>\n",
       "      <td>61387</td>\n",
       "      <td>4.708899</td>\n",
       "      <td>Ratio of total current balance to high credit/...</td>\n",
       "    </tr>\n",
       "    <tr>\n",
       "      <th>chargeoff_within_12_mths</th>\n",
       "      <td>56</td>\n",
       "      <td>0.004296</td>\n",
       "      <td>Number of charge-offs within 12 months</td>\n",
       "    </tr>\n",
       "    <tr>\n",
       "      <th>mo_sin_old_il_acct</th>\n",
       "      <td>104295</td>\n",
       "      <td>8.000304</td>\n",
       "      <td>Months since oldest bank installment account o...</td>\n",
       "    </tr>\n",
       "    <tr>\n",
       "      <th>mo_sin_old_rev_tl_op</th>\n",
       "      <td>67528</td>\n",
       "      <td>5.179966</td>\n",
       "      <td>Months since oldest revolving account opened</td>\n",
       "    </tr>\n",
       "    <tr>\n",
       "      <th>mo_sin_rcnt_rev_tl_op</th>\n",
       "      <td>67528</td>\n",
       "      <td>5.179966</td>\n",
       "      <td>Months since most recent revolving account opened</td>\n",
       "    </tr>\n",
       "    <tr>\n",
       "      <th>mo_sin_rcnt_tl</th>\n",
       "      <td>67527</td>\n",
       "      <td>5.179889</td>\n",
       "      <td>Months since most recent account opened</td>\n",
       "    </tr>\n",
       "    <tr>\n",
       "      <th>mort_acc</th>\n",
       "      <td>47281</td>\n",
       "      <td>3.626850</td>\n",
       "      <td>Number of mortgage accounts.</td>\n",
       "    </tr>\n",
       "    <tr>\n",
       "      <th>mths_since_recent_bc</th>\n",
       "      <td>59742</td>\n",
       "      <td>4.582714</td>\n",
       "      <td>Months since most recent bankcard account opened.</td>\n",
       "    </tr>\n",
       "    <tr>\n",
       "      <th>num_accts_ever_120_pd</th>\n",
       "      <td>67527</td>\n",
       "      <td>5.179889</td>\n",
       "      <td>Number of accounts ever 120 or more days past due</td>\n",
       "    </tr>\n",
       "    <tr>\n",
       "      <th>num_actv_bc_tl</th>\n",
       "      <td>67527</td>\n",
       "      <td>5.179889</td>\n",
       "      <td>Number of currently active bankcard accounts</td>\n",
       "    </tr>\n",
       "    <tr>\n",
       "      <th>num_actv_rev_tl</th>\n",
       "      <td>67527</td>\n",
       "      <td>5.179889</td>\n",
       "      <td>Number of currently active revolving trades</td>\n",
       "    </tr>\n",
       "    <tr>\n",
       "      <th>num_bc_sats</th>\n",
       "      <td>55841</td>\n",
       "      <td>4.283474</td>\n",
       "      <td>Number of satisfactory bankcard accounts</td>\n",
       "    </tr>\n",
       "    <tr>\n",
       "      <th>num_bc_tl</th>\n",
       "      <td>67527</td>\n",
       "      <td>5.179889</td>\n",
       "      <td>Number of bankcard accounts</td>\n",
       "    </tr>\n",
       "    <tr>\n",
       "      <th>num_il_tl</th>\n",
       "      <td>67527</td>\n",
       "      <td>5.179889</td>\n",
       "      <td>Number of installment accounts</td>\n",
       "    </tr>\n",
       "    <tr>\n",
       "      <th>num_op_rev_tl</th>\n",
       "      <td>67527</td>\n",
       "      <td>5.179889</td>\n",
       "      <td>Number of open revolving accounts</td>\n",
       "    </tr>\n",
       "    <tr>\n",
       "      <th>num_rev_accts</th>\n",
       "      <td>67528</td>\n",
       "      <td>5.179966</td>\n",
       "      <td>Number of revolving accounts</td>\n",
       "    </tr>\n",
       "    <tr>\n",
       "      <th>num_rev_tl_bal_gt_0</th>\n",
       "      <td>67527</td>\n",
       "      <td>5.179889</td>\n",
       "      <td>Number of revolving trades with balance &gt;0</td>\n",
       "    </tr>\n",
       "    <tr>\n",
       "      <th>num_tl_120dpd_2m</th>\n",
       "      <td>115571</td>\n",
       "      <td>8.865268</td>\n",
       "      <td>Number of accounts currently 120 days past due...</td>\n",
       "    </tr>\n",
       "    <tr>\n",
       "      <th>num_tl_30dpd</th>\n",
       "      <td>67527</td>\n",
       "      <td>5.179889</td>\n",
       "      <td>Number of accounts currently 30 days past due ...</td>\n",
       "    </tr>\n",
       "    <tr>\n",
       "      <th>num_tl_90g_dpd_24m</th>\n",
       "      <td>67527</td>\n",
       "      <td>5.179889</td>\n",
       "      <td>Number of accounts 90 or more days past due in...</td>\n",
       "    </tr>\n",
       "    <tr>\n",
       "      <th>num_tl_op_past_12m</th>\n",
       "      <td>67527</td>\n",
       "      <td>5.179889</td>\n",
       "      <td>Number of accounts opened in past 12 months</td>\n",
       "    </tr>\n",
       "    <tr>\n",
       "      <th>pct_tl_nvr_dlq</th>\n",
       "      <td>67681</td>\n",
       "      <td>5.191702</td>\n",
       "      <td>Percent of trades never delinquent</td>\n",
       "    </tr>\n",
       "    <tr>\n",
       "      <th>percent_bc_gt_75</th>\n",
       "      <td>61048</td>\n",
       "      <td>4.682895</td>\n",
       "      <td>Percentage of all bankcard accounts &gt; 75% of l...</td>\n",
       "    </tr>\n",
       "    <tr>\n",
       "      <th>pub_rec_bankruptcies</th>\n",
       "      <td>697</td>\n",
       "      <td>0.053466</td>\n",
       "      <td>Number of public record bankruptcies</td>\n",
       "    </tr>\n",
       "    <tr>\n",
       "      <th>tax_liens</th>\n",
       "      <td>39</td>\n",
       "      <td>0.002992</td>\n",
       "      <td>Number of tax liens</td>\n",
       "    </tr>\n",
       "    <tr>\n",
       "      <th>tot_hi_cred_lim</th>\n",
       "      <td>67527</td>\n",
       "      <td>5.179889</td>\n",
       "      <td>Total high credit/credit limit</td>\n",
       "    </tr>\n",
       "    <tr>\n",
       "      <th>total_bal_ex_mort</th>\n",
       "      <td>47281</td>\n",
       "      <td>3.626850</td>\n",
       "      <td>Total credit balance excluding mortgage</td>\n",
       "    </tr>\n",
       "    <tr>\n",
       "      <th>total_bc_limit</th>\n",
       "      <td>47281</td>\n",
       "      <td>3.626850</td>\n",
       "      <td>Total bankcard high credit/credit limit</td>\n",
       "    </tr>\n",
       "    <tr>\n",
       "      <th>total_il_high_credit_limit</th>\n",
       "      <td>67527</td>\n",
       "      <td>5.179889</td>\n",
       "      <td>Total installment high credit/credit limit</td>\n",
       "    </tr>\n",
       "  </tbody>\n",
       "</table>\n",
       "</div>"
      ],
      "text/plain": [
       "                             Count   Percent  \\\n",
       "emp_title                    82582  6.334734   \n",
       "emp_length                   75457  5.788187   \n",
       "title                        15426  1.183304   \n",
       "zip_code                         1  0.000077   \n",
       "dti                            312  0.023933   \n",
       "inq_last_6mths                   1  0.000077   \n",
       "revol_util                     810  0.062134   \n",
       "last_pymnt_d                  2261  0.173438   \n",
       "last_credit_pull_d              54  0.004142   \n",
       "collections_12_mths_ex_med      56  0.004296   \n",
       "tot_coll_amt                 67527  5.179889   \n",
       "tot_cur_bal                  67527  5.179889   \n",
       "total_rev_hi_lim             67527  5.179889   \n",
       "acc_open_past_24mths         47281  3.626850   \n",
       "avg_cur_bal                  67548  5.181500   \n",
       "bc_open_to_buy               60640  4.651598   \n",
       "bc_util                      61387  4.708899   \n",
       "chargeoff_within_12_mths        56  0.004296   \n",
       "mo_sin_old_il_acct          104295  8.000304   \n",
       "mo_sin_old_rev_tl_op         67528  5.179966   \n",
       "mo_sin_rcnt_rev_tl_op        67528  5.179966   \n",
       "mo_sin_rcnt_tl               67527  5.179889   \n",
       "mort_acc                     47281  3.626850   \n",
       "mths_since_recent_bc         59742  4.582714   \n",
       "num_accts_ever_120_pd        67527  5.179889   \n",
       "num_actv_bc_tl               67527  5.179889   \n",
       "num_actv_rev_tl              67527  5.179889   \n",
       "num_bc_sats                  55841  4.283474   \n",
       "num_bc_tl                    67527  5.179889   \n",
       "num_il_tl                    67527  5.179889   \n",
       "num_op_rev_tl                67527  5.179889   \n",
       "num_rev_accts                67528  5.179966   \n",
       "num_rev_tl_bal_gt_0          67527  5.179889   \n",
       "num_tl_120dpd_2m            115571  8.865268   \n",
       "num_tl_30dpd                 67527  5.179889   \n",
       "num_tl_90g_dpd_24m           67527  5.179889   \n",
       "num_tl_op_past_12m           67527  5.179889   \n",
       "pct_tl_nvr_dlq               67681  5.191702   \n",
       "percent_bc_gt_75             61048  4.682895   \n",
       "pub_rec_bankruptcies           697  0.053466   \n",
       "tax_liens                       39  0.002992   \n",
       "tot_hi_cred_lim              67527  5.179889   \n",
       "total_bal_ex_mort            47281  3.626850   \n",
       "total_bc_limit               47281  3.626850   \n",
       "total_il_high_credit_limit   67527  5.179889   \n",
       "\n",
       "                                                                  Description  \n",
       "emp_title                   The job title supplied by the Borrower when ap...  \n",
       "emp_length                  Employment length in years. Possible values ar...  \n",
       "title                                 The loan title provided by the borrower  \n",
       "zip_code                    The first 3 numbers of the zip code provided b...  \n",
       "dti                         A ratio calculated using the borrower’s total ...  \n",
       "inq_last_6mths              The number of inquiries in past 6 months (excl...  \n",
       "revol_util                  Revolving line utilization rate, or the amount...  \n",
       "last_pymnt_d                                  Last month payment was received  \n",
       "last_credit_pull_d          The most recent month LC pulled credit for thi...  \n",
       "collections_12_mths_ex_med  Number of collections in 12 months excluding m...  \n",
       "tot_coll_amt                               Total collection amounts ever owed  \n",
       "tot_cur_bal                             Total current balance of all accounts  \n",
       "total_rev_hi_lim                                                          NaN  \n",
       "acc_open_past_24mths               Number of trades opened in past 24 months.  \n",
       "avg_cur_bal                           Average current balance of all accounts  \n",
       "bc_open_to_buy                      Total open to buy on revolving bankcards.  \n",
       "bc_util                     Ratio of total current balance to high credit/...  \n",
       "chargeoff_within_12_mths               Number of charge-offs within 12 months  \n",
       "mo_sin_old_il_acct          Months since oldest bank installment account o...  \n",
       "mo_sin_old_rev_tl_op             Months since oldest revolving account opened  \n",
       "mo_sin_rcnt_rev_tl_op       Months since most recent revolving account opened  \n",
       "mo_sin_rcnt_tl                        Months since most recent account opened  \n",
       "mort_acc                                         Number of mortgage accounts.  \n",
       "mths_since_recent_bc        Months since most recent bankcard account opened.  \n",
       "num_accts_ever_120_pd       Number of accounts ever 120 or more days past due  \n",
       "num_actv_bc_tl                   Number of currently active bankcard accounts  \n",
       "num_actv_rev_tl                   Number of currently active revolving trades  \n",
       "num_bc_sats                          Number of satisfactory bankcard accounts  \n",
       "num_bc_tl                                         Number of bankcard accounts  \n",
       "num_il_tl                                      Number of installment accounts  \n",
       "num_op_rev_tl                               Number of open revolving accounts  \n",
       "num_rev_accts                                    Number of revolving accounts  \n",
       "num_rev_tl_bal_gt_0                Number of revolving trades with balance >0  \n",
       "num_tl_120dpd_2m            Number of accounts currently 120 days past due...  \n",
       "num_tl_30dpd                Number of accounts currently 30 days past due ...  \n",
       "num_tl_90g_dpd_24m          Number of accounts 90 or more days past due in...  \n",
       "num_tl_op_past_12m                Number of accounts opened in past 12 months  \n",
       "pct_tl_nvr_dlq                             Percent of trades never delinquent  \n",
       "percent_bc_gt_75            Percentage of all bankcard accounts > 75% of l...  \n",
       "pub_rec_bankruptcies                     Number of public record bankruptcies  \n",
       "tax_liens                                                 Number of tax liens  \n",
       "tot_hi_cred_lim                                Total high credit/credit limit  \n",
       "total_bal_ex_mort                     Total credit balance excluding mortgage  \n",
       "total_bc_limit                        Total bankcard high credit/credit limit  \n",
       "total_il_high_credit_limit         Total installment high credit/credit limit  "
      ]
     },
     "execution_count": 20,
     "metadata": {},
     "output_type": "execute_result"
    }
   ],
   "source": [
    "missings = pd.DataFrame({'Count': data1.isnull().sum(), 'Percent': 100*data1.isnull().sum()/len(data)})\n",
    "missings['LoanStatNew'] = list(missings.index)\n",
    "missings = missings.join(col_desc.set_index('LoanStatNew'), on='LoanStatNew')\n",
    "missings = missings.drop(columns='LoanStatNew')\n",
    "missings[missings.Percent > 0]"
   ]
  },
  {
   "cell_type": "markdown",
   "metadata": {},
   "source": [
    "Imputing data on that many rows and columns could take ages. As we have a lot of observations, we can just omit rows with missing data. We will check, however, if it changes our data imbalance."
   ]
  },
  {
   "cell_type": "code",
   "execution_count": 21,
   "metadata": {},
   "outputs": [
    {
     "name": "stdout",
     "output_type": "stream",
     "text": [
      "Fully Paid    1041952\n",
      "Default        261686\n",
      "Name: loan_status, dtype: int64\n",
      "Proportion Default/Fully Paid: 0.25\n"
     ]
    }
   ],
   "source": [
    "print(data1.loan_status.value_counts())\n",
    "perc = data1.loan_status.value_counts()[1] / data1.loan_status.value_counts()[0]\n",
    "print(\"Proportion Default/Fully Paid: %.2f\" % perc)"
   ]
  },
  {
   "cell_type": "code",
   "execution_count": 22,
   "metadata": {},
   "outputs": [
    {
     "name": "stdout",
     "output_type": "stream",
     "text": [
      "Fully Paid    851546\n",
      "Default       204723\n",
      "Name: loan_status, dtype: int64\n",
      "Proportion Default/Fully Paid: 0.24\n"
     ]
    }
   ],
   "source": [
    "data1.dropna(inplace = True)\n",
    "print(data1.loan_status.value_counts())\n",
    "perc = data1.loan_status.value_counts()[1] / data1.loan_status.value_counts()[0]\n",
    "print(\"Proportion Default/Fully Paid: %.2f\" % perc)"
   ]
  },
  {
   "cell_type": "markdown",
   "metadata": {},
   "source": [
    "This operation did not change our dependent variable imbalance."
   ]
  },
  {
   "cell_type": "code",
   "execution_count": 23,
   "metadata": {},
   "outputs": [],
   "source": [
    "data3 = data1.copy()"
   ]
  },
  {
   "cell_type": "markdown",
   "metadata": {},
   "source": [
    "## 2.2. One Hot Encoding and Final Dataset"
   ]
  },
  {
   "cell_type": "markdown",
   "metadata": {},
   "source": [
    "Before going further we have to encode categorical variables. To achieve that we will use one hot encoding"
   ]
  },
  {
   "cell_type": "code",
   "execution_count": 24,
   "metadata": {},
   "outputs": [],
   "source": [
    "levCols = []\n",
    "numCols = []\n",
    "for col in data3.columns:\n",
    "    if data3[col].dtype==object:\n",
    "        levCols.append(col)\n",
    "    else:\n",
    "        numCols.append(col)"
   ]
  },
  {
   "cell_type": "code",
   "execution_count": 25,
   "metadata": {},
   "outputs": [],
   "source": [
    "levCols.remove(\"loan_status\")"
   ]
  },
  {
   "cell_type": "markdown",
   "metadata": {},
   "source": [
    "### 2.2.1. Dealing with categorical variables with many factors"
   ]
  },
  {
   "cell_type": "markdown",
   "metadata": {},
   "source": [
    "Before moving to One Hot Encoding it would be useful to look at unique values of selected object-type variables. And how many levels they actually have. "
   ]
  },
  {
   "cell_type": "code",
   "execution_count": 26,
   "metadata": {
    "scrolled": true
   },
   "outputs": [],
   "source": [
    "num_levels = {}\n",
    "\n",
    "for levs in levCols:\n",
    "    num_levels[levs] = len(list(data3[levs].unique()))\n",
    "\n"
   ]
  },
  {
   "cell_type": "code",
   "execution_count": 27,
   "metadata": {},
   "outputs": [
    {
     "data": {
      "text/plain": [
       "[('pymnt_plan', 1),\n",
       " ('term', 2),\n",
       " ('initial_list_status', 2),\n",
       " ('application_type', 2),\n",
       " ('hardship_flag', 2),\n",
       " ('disbursement_method', 2),\n",
       " ('debt_settlement_flag', 2),\n",
       " ('verification_status', 3),\n",
       " ('hardship_status', 4),\n",
       " ('home_ownership', 6),\n",
       " ('grade', 7),\n",
       " ('hardship_reason', 10),\n",
       " ('emp_length', 11),\n",
       " ('purpose', 14),\n",
       " ('sub_grade', 35),\n",
       " ('addr_state', 51),\n",
       " ('issue_d', 77),\n",
       " ('last_pymnt_d', 78),\n",
       " ('last_credit_pull_d', 80),\n",
       " ('earliest_cr_line', 719),\n",
       " ('zip_code', 939),\n",
       " ('title', 35165),\n",
       " ('emp_title', 311102)]"
      ]
     },
     "execution_count": 27,
     "metadata": {},
     "output_type": "execute_result"
    }
   ],
   "source": [
    "sorted_num_levels = sorted(num_levels.items(), key=lambda kv: kv[1])\n",
    "sorted_num_levels"
   ]
  },
  {
   "cell_type": "markdown",
   "metadata": {},
   "source": [
    "So it is obvious that there is a serious problem we have to deal with. Using One Hot Encoding with this set of variables where some of them have many thousands levels would surely make our analysis almost impossible (actually we tried and finished with the dataset with 400k columns). Let's take a closer look at all the variables which have more than 10 levels. Those are:\n",
    "\n",
    "* emp_length: 11\n",
    "* purpose : 14\n",
    "* sub_grade: 35\n",
    "* addr_state: 51\n",
    "* issue_d:  77\n",
    "* last_pymnt_d: 78\n",
    "* last_credit_pull_d: 140\n",
    "* earliest_cr_line 719\n",
    "* zip_code: 939 \n",
    "* title: 35165\n",
    "* emp_title: 311102\n"
   ]
  },
  {
   "cell_type": "markdown",
   "metadata": {},
   "source": [
    "**emp_length:**"
   ]
  },
  {
   "cell_type": "code",
   "execution_count": 28,
   "metadata": {},
   "outputs": [
    {
     "data": {
      "text/plain": [
       "{'10+ years': 373308,\n",
       " '2 years': 101084,\n",
       " '3 years': 89135,\n",
       " '< 1 year': 89099,\n",
       " '1 year': 72787,\n",
       " '5 years': 68734,\n",
       " '4 years': 65606,\n",
       " '6 years': 51725,\n",
       " '8 years': 51515,\n",
       " '7 years': 50080,\n",
       " '9 years': 43196}"
      ]
     },
     "execution_count": 28,
     "metadata": {},
     "output_type": "execute_result"
    }
   ],
   "source": [
    "dict(data3.emp_length.value_counts())"
   ]
  },
  {
   "cell_type": "markdown",
   "metadata": {},
   "source": [
    "In this case we can see that we have levels which are easy to distnigiush. We will encode labels as numerical"
   ]
  },
  {
   "cell_type": "code",
   "execution_count": 29,
   "metadata": {},
   "outputs": [],
   "source": [
    "dictt = {}\n",
    "for k, v in dict(data3.emp_length.value_counts()).items():\n",
    "    if \"years\" in k:\n",
    "        new_key = k.replace(\"years\", \"\")\n",
    "        \n",
    "        if \"+\" in new_key:\n",
    "            new_key = new_key.replace(\"+\", \"\")\n",
    "        \n",
    "        dictt[int(new_key)] = v\n",
    "        \n",
    "    else:\n",
    "        new_key = k.replace(\"year\", \"\")\n",
    "        \n",
    "        if \"<\" in new_key:\n",
    "            new_key = 0\n",
    "        \n",
    "        dictt[int(new_key)] = v\n",
    "\n",
    "keys = list(dict(data3.emp_length.value_counts()).keys())\n",
    "values = list(dictt.keys())\n",
    "fin = dict(zip(keys, values))\n",
    "data3.emp_length.replace(fin, inplace = True)\n",
    "levCols.remove(\"emp_length\")"
   ]
  },
  {
   "cell_type": "markdown",
   "metadata": {},
   "source": [
    "**purpose:**"
   ]
  },
  {
   "cell_type": "code",
   "execution_count": 30,
   "metadata": {},
   "outputs": [
    {
     "data": {
      "text/plain": [
       "{'debt_consolidation': 623330,\n",
       " 'credit_card': 233874,\n",
       " 'home_improvement': 67256,\n",
       " 'other': 57625,\n",
       " 'major_purchase': 21560,\n",
       " 'medical': 11612,\n",
       " 'car': 10192,\n",
       " 'small_business': 10131,\n",
       " 'moving': 7099,\n",
       " 'vacation': 6785,\n",
       " 'house': 5378,\n",
       " 'wedding': 778,\n",
       " 'renewable_energy': 648,\n",
       " 'educational': 1}"
      ]
     },
     "execution_count": 30,
     "metadata": {},
     "output_type": "execute_result"
    }
   ],
   "source": [
    "dict(data3.purpose.value_counts())"
   ]
  },
  {
   "cell_type": "markdown",
   "metadata": {},
   "source": [
    "In this case changing the encoding to discrete one does not make much sense, cause next levels doesn't mean anything. In this case we will group the levels in an arbitrary way to limit the number of levels which will be later Hot Encoded"
   ]
  },
  {
   "cell_type": "code",
   "execution_count": 31,
   "metadata": {},
   "outputs": [],
   "source": [
    "dictt = {'debt_consolidation': 'debt_consolidation', \n",
    " 'credit_card': 'credit_card',\n",
    " 'vacation': 'credit_card',\n",
    " 'home_improvement': 'home_improvement', \n",
    " 'house': 'home_improvement', \n",
    " 'moving': 'home_improvement', \n",
    " 'other': 'other', \n",
    " 'wedding': 'other', \n",
    " 'renewable_energy':'other',\n",
    " 'major_purchase': 'major_purchase', \n",
    " 'medical': 'medical',\n",
    " 'small_business': 'small_business',\n",
    " 'car': \"car\",\n",
    " 'educational': 'educational'}\n",
    "\n",
    "data3.purpose.replace(dictt, inplace = True)"
   ]
  },
  {
   "cell_type": "markdown",
   "metadata": {},
   "source": [
    "**sub_grade** In this case we have some levels from G to A with additional numerical scale. To limit number of levels we will get rid off additional numerical scale"
   ]
  },
  {
   "cell_type": "code",
   "execution_count": 32,
   "metadata": {
    "scrolled": true
   },
   "outputs": [
    {
     "data": {
      "text/plain": [
       "{'C1': 66850,\n",
       " 'B4': 65489,\n",
       " 'B3': 63659,\n",
       " 'B5': 63647,\n",
       " 'C2': 61541,\n",
       " 'C3': 59686,\n",
       " 'C4': 59347,\n",
       " 'B2': 58661,\n",
       " 'B1': 56781,\n",
       " 'C5': 53525,\n",
       " 'A5': 51493,\n",
       " 'A4': 40444,\n",
       " 'D1': 39869,\n",
       " 'A1': 35267,\n",
       " 'D2': 34217,\n",
       " 'D3': 30086,\n",
       " 'A3': 29833,\n",
       " 'A2': 29650,\n",
       " 'D4': 27361,\n",
       " 'D5': 23190,\n",
       " 'E1': 18366,\n",
       " 'E2': 16674,\n",
       " 'E3': 14415,\n",
       " 'E4': 12345,\n",
       " 'E5': 11355,\n",
       " 'F1': 7781,\n",
       " 'F2': 5589,\n",
       " 'F3': 4800,\n",
       " 'F4': 3877,\n",
       " 'F5': 3172,\n",
       " 'G1': 2358,\n",
       " 'G2': 1698,\n",
       " 'G3': 1303,\n",
       " 'G4': 1034,\n",
       " 'G5': 906}"
      ]
     },
     "execution_count": 32,
     "metadata": {},
     "output_type": "execute_result"
    }
   ],
   "source": [
    "dict(data3.sub_grade.value_counts())"
   ]
  },
  {
   "cell_type": "code",
   "execution_count": 33,
   "metadata": {},
   "outputs": [],
   "source": [
    "fin = {}\n",
    "for k, v in dict(data3.sub_grade.value_counts()).items():\n",
    "    fin[k] = k[0]\n",
    "data3.sub_grade.replace(fin, inplace = True)"
   ]
  },
  {
   "cell_type": "markdown",
   "metadata": {},
   "source": [
    "**addr_state** means the State where the borower lives. However it is hard to find a proper approach to deal with this variable. Grouping it might be a good option but it surely requires a deep research of particular states similarities. Therefore, to simplify our analysis we will drop this variable."
   ]
  },
  {
   "cell_type": "code",
   "execution_count": 34,
   "metadata": {},
   "outputs": [],
   "source": [
    "# levCols.remove(\"addr_state\")\n",
    "data3.drop(columns=\"addr_state\", inplace = True)"
   ]
  },
  {
   "cell_type": "markdown",
   "metadata": {},
   "source": [
    "**last_credit_pull_d** this variable is in format month - year. To simplify analysis we will group it into years"
   ]
  },
  {
   "cell_type": "code",
   "execution_count": 35,
   "metadata": {},
   "outputs": [
    {
     "data": {
      "text/plain": [
       "{'Feb-2019': 381617,\n",
       " 'Jan-2019': 63007,\n",
       " 'Jul-2018': 46280,\n",
       " 'Dec-2018': 42260,\n",
       " 'Oct-2018': 41427,\n",
       " 'Nov-2018': 39158,\n",
       " 'Oct-2016': 37801,\n",
       " 'Aug-2018': 37118,\n",
       " 'Sep-2018': 29223,\n",
       " 'May-2018': 21598,\n",
       " 'Feb-2017': 21466,\n",
       " 'Apr-2018': 20775,\n",
       " 'Mar-2018': 20174,\n",
       " 'Jan-2018': 18265,\n",
       " 'Feb-2018': 18042,\n",
       " 'Oct-2017': 17743,\n",
       " 'Nov-2017': 15488,\n",
       " 'Dec-2017': 14044,\n",
       " 'Aug-2017': 13650,\n",
       " 'Sep-2017': 13432,\n",
       " 'Jun-2017': 12982,\n",
       " 'Jul-2017': 12252,\n",
       " 'Mar-2017': 10746,\n",
       " 'Apr-2017': 10025,\n",
       " 'Jan-2017': 8871,\n",
       " 'May-2017': 8520,\n",
       " 'Jun-2018': 8011,\n",
       " 'Dec-2016': 7391,\n",
       " 'Nov-2016': 6110,\n",
       " 'Jul-2016': 4066,\n",
       " 'Apr-2016': 3979,\n",
       " 'Aug-2016': 3923,\n",
       " 'Mar-2016': 3701,\n",
       " 'Feb-2016': 3489,\n",
       " 'Jun-2016': 3207,\n",
       " 'May-2016': 2897,\n",
       " 'Jan-2016': 2648,\n",
       " 'Dec-2015': 2547,\n",
       " 'Sep-2015': 2293,\n",
       " 'Oct-2015': 2293,\n",
       " 'Nov-2015': 2161,\n",
       " 'Aug-2015': 1680,\n",
       " 'Sep-2016': 1675,\n",
       " 'Jul-2015': 1668,\n",
       " 'Jun-2015': 1580,\n",
       " 'Apr-2015': 1434,\n",
       " 'Mar-2015': 1319,\n",
       " 'May-2015': 1257,\n",
       " 'Jan-2015': 1130,\n",
       " 'Feb-2015': 1129,\n",
       " 'Dec-2014': 809,\n",
       " 'Oct-2014': 775,\n",
       " 'Nov-2014': 713,\n",
       " 'Jul-2014': 705,\n",
       " 'Sep-2014': 648,\n",
       " 'Aug-2014': 648,\n",
       " 'May-2014': 555,\n",
       " 'Jun-2014': 487,\n",
       " 'Apr-2014': 460,\n",
       " 'Mar-2014': 428,\n",
       " 'Feb-2014': 393,\n",
       " 'Jan-2014': 324,\n",
       " 'Nov-2013': 261,\n",
       " 'Dec-2013': 251,\n",
       " 'Oct-2013': 199,\n",
       " 'Aug-2013': 171,\n",
       " 'Sep-2013': 168,\n",
       " 'Jul-2013': 166,\n",
       " 'May-2013': 116,\n",
       " 'Jun-2013': 102,\n",
       " 'Mar-2013': 86,\n",
       " 'Feb-2013': 82,\n",
       " 'Apr-2013': 78,\n",
       " 'Dec-2012': 34,\n",
       " 'Nov-2012': 26,\n",
       " 'Jan-2013': 13,\n",
       " 'Oct-2012': 13,\n",
       " 'Mar-2019': 3,\n",
       " 'Sep-2012': 2,\n",
       " 'Aug-2012': 1}"
      ]
     },
     "execution_count": 35,
     "metadata": {},
     "output_type": "execute_result"
    }
   ],
   "source": [
    "dict(data3.last_credit_pull_d.value_counts())"
   ]
  },
  {
   "cell_type": "code",
   "execution_count": 36,
   "metadata": {},
   "outputs": [],
   "source": [
    "fin = {}\n",
    "for k, v in dict(data3.last_credit_pull_d.value_counts()).items():\n",
    "    fin[k] = str(k[4:])\n",
    "    \n",
    "data3.last_credit_pull_d.replace(fin, inplace = True)"
   ]
  },
  {
   "cell_type": "markdown",
   "metadata": {},
   "source": [
    "**earliest_cr_line** it seems to be the same situation as with last_credit_pull_d that we can just group it into years. However it occured that even after grouping the number of levels is large, so we will omit this variable. We will do the same also with: \n",
    "* zip_code\n",
    "* title\n",
    "* emp_title\n",
    "* issue_d\n",
    "* last_pymnt_d\n",
    "* \"earliest_cr_line\"\n",
    "\n",
    "They would all require huge conceptional job to be be properly grouped.   "
   ]
  },
  {
   "cell_type": "code",
   "execution_count": 37,
   "metadata": {},
   "outputs": [],
   "source": [
    "data3.drop(columns=[\"zip_code\", \"title\", \"emp_title\", \"earliest_cr_line\", \"issue_d\", \"last_pymnt_d\"], inplace = True)"
   ]
  },
  {
   "cell_type": "code",
   "execution_count": 38,
   "metadata": {},
   "outputs": [],
   "source": [
    "levCols = []\n",
    "numCols = []\n",
    "for col in data3.columns:\n",
    "    if data3[col].dtype==object:\n",
    "        levCols.append(col)\n",
    "    else:\n",
    "        numCols.append(col)\n",
    "levCols.remove(\"loan_status\")\n",
    "\n",
    "num_levels = {}\n",
    "\n",
    "for levs in levCols:\n",
    "    num_levels[levs] = len(list(data3[levs].unique()))\n"
   ]
  },
  {
   "cell_type": "code",
   "execution_count": 39,
   "metadata": {
    "scrolled": true
   },
   "outputs": [
    {
     "data": {
      "text/plain": [
       "{'term': 2,\n",
       " 'grade': 7,\n",
       " 'sub_grade': 7,\n",
       " 'home_ownership': 6,\n",
       " 'verification_status': 3,\n",
       " 'pymnt_plan': 1,\n",
       " 'purpose': 9,\n",
       " 'initial_list_status': 2,\n",
       " 'last_credit_pull_d': 8,\n",
       " 'application_type': 2,\n",
       " 'hardship_flag': 2,\n",
       " 'hardship_reason': 10,\n",
       " 'hardship_status': 4,\n",
       " 'disbursement_method': 2,\n",
       " 'debt_settlement_flag': 2}"
      ]
     },
     "execution_count": 39,
     "metadata": {},
     "output_type": "execute_result"
    }
   ],
   "source": [
    "num_levels"
   ]
  },
  {
   "cell_type": "markdown",
   "metadata": {},
   "source": [
    "### 2.2.2. Preparing Final Data with One Hot Encoding"
   ]
  },
  {
   "cell_type": "markdown",
   "metadata": {},
   "source": [
    "After all the operations conducted in previous subchapter we can now safely introduce One Hot Encoding"
   ]
  },
  {
   "cell_type": "code",
   "execution_count": 40,
   "metadata": {},
   "outputs": [],
   "source": [
    "dummLev = pd.get_dummies(data3[levCols], sparse = True).astype(np.int8)"
   ]
  },
  {
   "cell_type": "code",
   "execution_count": 41,
   "metadata": {},
   "outputs": [],
   "source": [
    "fin_data = pd.concat([data3.loan_status, data3[numCols], dummLev], axis=1)"
   ]
  },
  {
   "cell_type": "code",
   "execution_count": 42,
   "metadata": {
    "scrolled": true
   },
   "outputs": [
    {
     "data": {
      "text/html": [
       "<div>\n",
       "<style scoped>\n",
       "    .dataframe tbody tr th:only-of-type {\n",
       "        vertical-align: middle;\n",
       "    }\n",
       "\n",
       "    .dataframe tbody tr th {\n",
       "        vertical-align: top;\n",
       "    }\n",
       "\n",
       "    .dataframe thead th {\n",
       "        text-align: right;\n",
       "    }\n",
       "</style>\n",
       "<table border=\"1\" class=\"dataframe\">\n",
       "  <thead>\n",
       "    <tr style=\"text-align: right;\">\n",
       "      <th></th>\n",
       "      <th>loan_status</th>\n",
       "      <th>loan_amnt</th>\n",
       "      <th>int_rate</th>\n",
       "      <th>installment</th>\n",
       "      <th>emp_length</th>\n",
       "      <th>annual_inc</th>\n",
       "      <th>dti</th>\n",
       "      <th>delinq_2yrs</th>\n",
       "      <th>inq_last_6mths</th>\n",
       "      <th>open_acc</th>\n",
       "      <th>...</th>\n",
       "      <th>hardship_reason_REDUCED_HOURS</th>\n",
       "      <th>hardship_reason_UNEMPLOYMENT</th>\n",
       "      <th>hardship_status_ACTIVE</th>\n",
       "      <th>hardship_status_BROKEN</th>\n",
       "      <th>hardship_status_COMPLETED</th>\n",
       "      <th>hardship_status_NO_HARDSHIP</th>\n",
       "      <th>disbursement_method_Cash</th>\n",
       "      <th>disbursement_method_DirectPay</th>\n",
       "      <th>debt_settlement_flag_N</th>\n",
       "      <th>debt_settlement_flag_Y</th>\n",
       "    </tr>\n",
       "  </thead>\n",
       "  <tbody>\n",
       "    <tr>\n",
       "      <th>100</th>\n",
       "      <td>Fully Paid</td>\n",
       "      <td>30000</td>\n",
       "      <td>22.35</td>\n",
       "      <td>1151.16</td>\n",
       "      <td>5</td>\n",
       "      <td>100000.0</td>\n",
       "      <td>30.46</td>\n",
       "      <td>0.0</td>\n",
       "      <td>0.0</td>\n",
       "      <td>11.0</td>\n",
       "      <td>...</td>\n",
       "      <td>0</td>\n",
       "      <td>0</td>\n",
       "      <td>0</td>\n",
       "      <td>0</td>\n",
       "      <td>0</td>\n",
       "      <td>1</td>\n",
       "      <td>1</td>\n",
       "      <td>0</td>\n",
       "      <td>1</td>\n",
       "      <td>0</td>\n",
       "    </tr>\n",
       "    <tr>\n",
       "      <th>152</th>\n",
       "      <td>Fully Paid</td>\n",
       "      <td>40000</td>\n",
       "      <td>16.14</td>\n",
       "      <td>975.71</td>\n",
       "      <td>0</td>\n",
       "      <td>45000.0</td>\n",
       "      <td>50.53</td>\n",
       "      <td>0.0</td>\n",
       "      <td>0.0</td>\n",
       "      <td>18.0</td>\n",
       "      <td>...</td>\n",
       "      <td>0</td>\n",
       "      <td>0</td>\n",
       "      <td>0</td>\n",
       "      <td>0</td>\n",
       "      <td>0</td>\n",
       "      <td>1</td>\n",
       "      <td>1</td>\n",
       "      <td>0</td>\n",
       "      <td>1</td>\n",
       "      <td>0</td>\n",
       "    </tr>\n",
       "    <tr>\n",
       "      <th>170</th>\n",
       "      <td>Fully Paid</td>\n",
       "      <td>20000</td>\n",
       "      <td>7.56</td>\n",
       "      <td>622.68</td>\n",
       "      <td>10</td>\n",
       "      <td>100000.0</td>\n",
       "      <td>18.92</td>\n",
       "      <td>0.0</td>\n",
       "      <td>0.0</td>\n",
       "      <td>9.0</td>\n",
       "      <td>...</td>\n",
       "      <td>0</td>\n",
       "      <td>0</td>\n",
       "      <td>0</td>\n",
       "      <td>0</td>\n",
       "      <td>0</td>\n",
       "      <td>1</td>\n",
       "      <td>1</td>\n",
       "      <td>0</td>\n",
       "      <td>1</td>\n",
       "      <td>0</td>\n",
       "    </tr>\n",
       "    <tr>\n",
       "      <th>186</th>\n",
       "      <td>Fully Paid</td>\n",
       "      <td>4500</td>\n",
       "      <td>11.31</td>\n",
       "      <td>147.99</td>\n",
       "      <td>10</td>\n",
       "      <td>38500.0</td>\n",
       "      <td>4.64</td>\n",
       "      <td>0.0</td>\n",
       "      <td>0.0</td>\n",
       "      <td>12.0</td>\n",
       "      <td>...</td>\n",
       "      <td>0</td>\n",
       "      <td>0</td>\n",
       "      <td>0</td>\n",
       "      <td>0</td>\n",
       "      <td>0</td>\n",
       "      <td>1</td>\n",
       "      <td>1</td>\n",
       "      <td>0</td>\n",
       "      <td>1</td>\n",
       "      <td>0</td>\n",
       "    </tr>\n",
       "    <tr>\n",
       "      <th>215</th>\n",
       "      <td>Fully Paid</td>\n",
       "      <td>8425</td>\n",
       "      <td>27.27</td>\n",
       "      <td>345.18</td>\n",
       "      <td>3</td>\n",
       "      <td>450000.0</td>\n",
       "      <td>12.37</td>\n",
       "      <td>0.0</td>\n",
       "      <td>0.0</td>\n",
       "      <td>21.0</td>\n",
       "      <td>...</td>\n",
       "      <td>0</td>\n",
       "      <td>0</td>\n",
       "      <td>0</td>\n",
       "      <td>0</td>\n",
       "      <td>0</td>\n",
       "      <td>1</td>\n",
       "      <td>1</td>\n",
       "      <td>0</td>\n",
       "      <td>1</td>\n",
       "      <td>0</td>\n",
       "    </tr>\n",
       "  </tbody>\n",
       "</table>\n",
       "<p>5 rows × 129 columns</p>\n",
       "</div>"
      ],
      "text/plain": [
       "    loan_status  loan_amnt  int_rate  installment  emp_length  annual_inc  \\\n",
       "100  Fully Paid      30000     22.35      1151.16           5    100000.0   \n",
       "152  Fully Paid      40000     16.14       975.71           0     45000.0   \n",
       "170  Fully Paid      20000      7.56       622.68          10    100000.0   \n",
       "186  Fully Paid       4500     11.31       147.99          10     38500.0   \n",
       "215  Fully Paid       8425     27.27       345.18           3    450000.0   \n",
       "\n",
       "       dti  delinq_2yrs  inq_last_6mths  open_acc           ...            \\\n",
       "100  30.46          0.0             0.0      11.0           ...             \n",
       "152  50.53          0.0             0.0      18.0           ...             \n",
       "170  18.92          0.0             0.0       9.0           ...             \n",
       "186   4.64          0.0             0.0      12.0           ...             \n",
       "215  12.37          0.0             0.0      21.0           ...             \n",
       "\n",
       "     hardship_reason_REDUCED_HOURS  hardship_reason_UNEMPLOYMENT  \\\n",
       "100                              0                             0   \n",
       "152                              0                             0   \n",
       "170                              0                             0   \n",
       "186                              0                             0   \n",
       "215                              0                             0   \n",
       "\n",
       "     hardship_status_ACTIVE  hardship_status_BROKEN  \\\n",
       "100                       0                       0   \n",
       "152                       0                       0   \n",
       "170                       0                       0   \n",
       "186                       0                       0   \n",
       "215                       0                       0   \n",
       "\n",
       "     hardship_status_COMPLETED  hardship_status_NO_HARDSHIP  \\\n",
       "100                          0                            1   \n",
       "152                          0                            1   \n",
       "170                          0                            1   \n",
       "186                          0                            1   \n",
       "215                          0                            1   \n",
       "\n",
       "     disbursement_method_Cash  disbursement_method_DirectPay  \\\n",
       "100                         1                              0   \n",
       "152                         1                              0   \n",
       "170                         1                              0   \n",
       "186                         1                              0   \n",
       "215                         1                              0   \n",
       "\n",
       "     debt_settlement_flag_N  debt_settlement_flag_Y  \n",
       "100                       1                       0  \n",
       "152                       1                       0  \n",
       "170                       1                       0  \n",
       "186                       1                       0  \n",
       "215                       1                       0  \n",
       "\n",
       "[5 rows x 129 columns]"
      ]
     },
     "execution_count": 42,
     "metadata": {},
     "output_type": "execute_result"
    }
   ],
   "source": [
    "fin_data.head(5)"
   ]
  },
  {
   "cell_type": "markdown",
   "metadata": {},
   "source": [
    "One Hot Encoding left us with dataset with 1 056 269 observations and 128 independent variables which seem to be a reasonable number. Before creating creating traint and test set we can verify if there are no constant variables in our dataset"
   ]
  },
  {
   "cell_type": "code",
   "execution_count": 43,
   "metadata": {},
   "outputs": [],
   "source": [
    "from sklearn.feature_selection import VarianceThreshold"
   ]
  },
  {
   "cell_type": "code",
   "execution_count": 44,
   "metadata": {
    "scrolled": true
   },
   "outputs": [
    {
     "data": {
      "text/plain": [
       "['pymnt_plan_n']"
      ]
     },
     "execution_count": 44,
     "metadata": {},
     "output_type": "execute_result"
    }
   ],
   "source": [
    "constant_filter = VarianceThreshold(threshold=0)  \n",
    "constant_filter.fit(fin_data.loc[:, fin_data.columns != 'loan_status'])\n",
    "constant_columns = [column for column in fin_data.loc[:, fin_data.columns != 'loan_status'].columns  \n",
    "                    if column not in fin_data.loc[:, fin_data.columns != 'loan_status'].columns[constant_filter.get_support()]]\n",
    "constant_columns"
   ]
  },
  {
   "cell_type": "markdown",
   "metadata": {},
   "source": [
    "**pymnt_plan_n** occured to be constant. Therefore we drop it from dataset"
   ]
  },
  {
   "cell_type": "code",
   "execution_count": 45,
   "metadata": {},
   "outputs": [],
   "source": [
    "fin_data.drop(columns = constant_columns, inplace = True)"
   ]
  },
  {
   "cell_type": "markdown",
   "metadata": {},
   "source": [
    "### 2.2.3. Creating train and test set"
   ]
  },
  {
   "cell_type": "code",
   "execution_count": 46,
   "metadata": {},
   "outputs": [],
   "source": [
    "y = fin_data.loan_status"
   ]
  },
  {
   "cell_type": "code",
   "execution_count": 47,
   "metadata": {},
   "outputs": [],
   "source": [
    "X = fin_data.loc[:, fin_data.columns != 'loan_status']"
   ]
  },
  {
   "cell_type": "code",
   "execution_count": 48,
   "metadata": {},
   "outputs": [],
   "source": [
    "X_train, X_test, y_train, y_test = train_test_split(X, y, test_size=0.3, random_state = 42)"
   ]
  },
  {
   "cell_type": "markdown",
   "metadata": {},
   "source": [
    "# 3. Logistic Regression"
   ]
  },
  {
   "cell_type": "markdown",
   "metadata": {},
   "source": [
    "As it was shown in previous chapter our dataset is rather imbalanced. It is the risk that the results we obtain during the modelling might not be as realiable as they should be. Having in mind that our dataset is really big we have decided to use some kind of penalized type of Logistic Regression, both to balance the imabalnced issue and also to help the function work better with the data we provided. We decided to use L2 regularization (it is actually a default penalization for sklearn Logistic Regression). We will use cross validation with 3 folds to validate our model. "
   ]
  },
  {
   "cell_type": "code",
   "execution_count": 118,
   "metadata": {},
   "outputs": [],
   "source": [
    "logit = LogisticRegression(solver = \"liblinear\", max_iter = 1000)"
   ]
  },
  {
   "cell_type": "code",
   "execution_count": 119,
   "metadata": {},
   "outputs": [
    {
     "data": {
      "text/plain": [
       "LogisticRegression(C=1.0, class_weight=None, dual=False, fit_intercept=True,\n",
       "                   intercept_scaling=1, l1_ratio=None, max_iter=1000,\n",
       "                   multi_class='warn', n_jobs=None, penalty='l2',\n",
       "                   random_state=None, solver='liblinear', tol=0.0001, verbose=0,\n",
       "                   warm_start=False)"
      ]
     },
     "execution_count": 119,
     "metadata": {},
     "output_type": "execute_result"
    }
   ],
   "source": [
    "logit.fit(X_train, y_train)"
   ]
  },
  {
   "cell_type": "markdown",
   "metadata": {},
   "source": [
    "We have fitted our data but it is essential to find out how well it performs using cross validation. Having in mind that our dataset is imbalanced we will use roc_auc score instead of accuracy to asses model's performance "
   ]
  },
  {
   "cell_type": "code",
   "execution_count": 120,
   "metadata": {},
   "outputs": [],
   "source": [
    "roc_auc_scores = cross_val_score(logit, X_train, y_train, scoring='roc_auc', cv = 3)"
   ]
  },
  {
   "cell_type": "code",
   "execution_count": 121,
   "metadata": {},
   "outputs": [
    {
     "name": "stdout",
     "output_type": "stream",
     "text": [
      "ROC AUCs: [0.9997193834961235, 0.99936405082097, 0.9993342983166288]\n",
      "Mean  Area Under the Receiver Operating Characteristic Curve: 0.9994725775445742\n"
     ]
    }
   ],
   "source": [
    "print(\"ROC AUCs:\", list(roc_auc_scores))\n",
    "print(\"Mean  Area Under the Receiver Operating Characteristic Curve:\", roc_auc_scores.mean())"
   ]
  },
  {
   "cell_type": "markdown",
   "metadata": {},
   "source": [
    "It occurs that for 3 folds CV the model based on \"l2\" works really well. The Mean Roc Auc is high and the values for particular folds do not significantly differ"
   ]
  },
  {
   "cell_type": "code",
   "execution_count": 138,
   "metadata": {},
   "outputs": [],
   "source": [
    "y_predicted = logit.predict(X_test)\n",
    "y_predicted_logit = y_predicted"
   ]
  },
  {
   "cell_type": "markdown",
   "metadata": {},
   "source": [
    "When predicting values on test data and comparing it with real y values we get really high accuracy score. However we should be cautious in this case because the accuracy score might be misleading with imbalanced data"
   ]
  },
  {
   "cell_type": "code",
   "execution_count": 139,
   "metadata": {},
   "outputs": [
    {
     "name": "stdout",
     "output_type": "stream",
     "text": [
      "accuracy score: 0.9990090917410637\n"
     ]
    }
   ],
   "source": [
    "print(\"accuracy score:\", accuracy_score(y_test, y_predicted))"
   ]
  },
  {
   "cell_type": "markdown",
   "metadata": {},
   "source": [
    "At the end we can take a look at the confusion matrix "
   ]
  },
  {
   "cell_type": "code",
   "execution_count": 140,
   "metadata": {
    "scrolled": true
   },
   "outputs": [
    {
     "data": {
      "text/plain": [
       "<matplotlib.axes._subplots.AxesSubplot at 0x149b5fb7cc0>"
      ]
     },
     "execution_count": 140,
     "metadata": {},
     "output_type": "execute_result"
    },
    {
     "data": {
      "image/png": "[encoded data removed]",
      "text/plain": [
       "<Figure size 432x288 with 2 Axes>"
      ]
     },
     "metadata": {
      "needs_background": "light"
     },
     "output_type": "display_data"
    }
   ],
   "source": [
    "cmm = cm(y_test, y_predicted)\n",
    "cmm_logit = cmm\n",
    "sns.heatmap(cmm, annot = True, fmt='g')"
   ]
  },
  {
   "cell_type": "code",
   "execution_count": 147,
   "metadata": {},
   "outputs": [
    {
     "name": "stdout",
     "output_type": "stream",
     "text": [
      "Percentage of wrongly classified values: 0.09909082589363198 %\n"
     ]
    }
   ],
   "source": [
    "print(\"Percentage of wrongly classified values:\", 314/(60862+255705+314)*100,\"%\")"
   ]
  },
  {
   "cell_type": "markdown",
   "metadata": {},
   "source": [
    "It also gives us really promising results. Number of false positive and false negative values is marginal in comparison with correct values"
   ]
  },
  {
   "cell_type": "markdown",
   "metadata": {},
   "source": [
    "# 4. Random Forest"
   ]
  },
  {
   "cell_type": "markdown",
   "metadata": {},
   "source": [
    "Although the Logistic Regression conducted in previous chapter went in satisfying way it is not always the case when working with imabalanced dataset. One of the algorithms which are supposed to be more efficient in dealing with lack of balance in dataset is Random Forest which will be implemented in this chapter. In this case I will use GridSearchCv to choose best parameteres for Random Forest. "
   ]
  },
  {
   "cell_type": "code",
   "execution_count": 54,
   "metadata": {},
   "outputs": [],
   "source": [
    "from sklearn.ensemble import RandomForestClassifier  \n",
    "from sklearn.model_selection import GridSearchCV\n"
   ]
  },
  {
   "cell_type": "code",
   "execution_count": 55,
   "metadata": {},
   "outputs": [],
   "source": [
    "classifier = RandomForestClassifier(random_state=0)  "
   ]
  },
  {
   "cell_type": "markdown",
   "metadata": {},
   "source": [
    "To use a GridSearchCV it is important to specify some parameters which will be used with classifier"
   ]
  },
  {
   "cell_type": "code",
   "execution_count": 56,
   "metadata": {},
   "outputs": [],
   "source": [
    "grid_param = {  \n",
    "    'n_estimators': [10, 32, 64] \n",
    "}"
   ]
  },
  {
   "cell_type": "markdown",
   "metadata": {},
   "source": [
    "We will simplify the anlysis and limit parameters just to number of estimator. Our dataset is large and multiplying possible combinations might make our analysis much longer.\n",
    "\n",
    "Number of estimators which means the number of trees is by default set to 10. The other values are literature based. Where it is suggested that the satisfying number of trees is between 64 - 128 and more are not necessary( The source is: https://www.researchgate.net/publication/230766603_How_Many_Trees_in_a_Random_Forest). However to make a computational process less demanding we will use 64 as a maximum value\n",
    "\n"
   ]
  },
  {
   "cell_type": "markdown",
   "metadata": {},
   "source": [
    "About GridSearchCV itself we make it similar as cross validation in Logistic Regression. Scoring is set to be \"roc_auc\" and number of folds = 3"
   ]
  },
  {
   "cell_type": "code",
   "execution_count": 57,
   "metadata": {
    "scrolled": true
   },
   "outputs": [
    {
     "name": "stdout",
     "output_type": "stream",
     "text": [
      "Fitting 3 folds for each of 3 candidates, totalling 9 fits\n"
     ]
    },
    {
     "name": "stderr",
     "output_type": "stream",
     "text": [
      "[Parallel(n_jobs=1)]: Using backend SequentialBackend with 1 concurrent workers.\n"
     ]
    },
    {
     "name": "stdout",
     "output_type": "stream",
     "text": [
      "[CV] n_estimators=10 .................................................\n",
      "[CV] ..................... n_estimators=10, score=0.999, total=  25.3s\n",
      "[CV] n_estimators=10 .................................................\n"
     ]
    },
    {
     "name": "stderr",
     "output_type": "stream",
     "text": [
      "[Parallel(n_jobs=1)]: Done   1 out of   1 | elapsed:   25.2s remaining:    0.0s\n"
     ]
    },
    {
     "name": "stdout",
     "output_type": "stream",
     "text": [
      "[CV] ..................... n_estimators=10, score=0.999, total=  25.5s\n",
      "[CV] n_estimators=10 .................................................\n"
     ]
    },
    {
     "name": "stderr",
     "output_type": "stream",
     "text": [
      "[Parallel(n_jobs=1)]: Done   2 out of   2 | elapsed:   50.7s remaining:    0.0s\n"
     ]
    },
    {
     "name": "stdout",
     "output_type": "stream",
     "text": [
      "[CV] ..................... n_estimators=10, score=0.999, total=  25.1s\n",
      "[CV] n_estimators=32 .................................................\n"
     ]
    },
    {
     "name": "stderr",
     "output_type": "stream",
     "text": [
      "[Parallel(n_jobs=1)]: Done   3 out of   3 | elapsed:  1.3min remaining:    0.0s\n"
     ]
    },
    {
     "name": "stdout",
     "output_type": "stream",
     "text": [
      "[CV] ..................... n_estimators=32, score=1.000, total= 1.2min\n",
      "[CV] n_estimators=32 .................................................\n"
     ]
    },
    {
     "name": "stderr",
     "output_type": "stream",
     "text": [
      "[Parallel(n_jobs=1)]: Done   4 out of   4 | elapsed:  2.5min remaining:    0.0s\n"
     ]
    },
    {
     "name": "stdout",
     "output_type": "stream",
     "text": [
      "[CV] ..................... n_estimators=32, score=1.000, total= 1.2min\n",
      "[CV] n_estimators=32 .................................................\n"
     ]
    },
    {
     "name": "stderr",
     "output_type": "stream",
     "text": [
      "[Parallel(n_jobs=1)]: Done   5 out of   5 | elapsed:  3.7min remaining:    0.0s\n"
     ]
    },
    {
     "name": "stdout",
     "output_type": "stream",
     "text": [
      "[CV] ..................... n_estimators=32, score=1.000, total= 1.2min\n",
      "[CV] n_estimators=64 .................................................\n"
     ]
    },
    {
     "name": "stderr",
     "output_type": "stream",
     "text": [
      "[Parallel(n_jobs=1)]: Done   6 out of   6 | elapsed:  4.9min remaining:    0.0s\n"
     ]
    },
    {
     "name": "stdout",
     "output_type": "stream",
     "text": [
      "[CV] ..................... n_estimators=64, score=1.000, total= 2.3min\n",
      "[CV] n_estimators=64 .................................................\n"
     ]
    },
    {
     "name": "stderr",
     "output_type": "stream",
     "text": [
      "[Parallel(n_jobs=1)]: Done   7 out of   7 | elapsed:  7.2min remaining:    0.0s\n"
     ]
    },
    {
     "name": "stdout",
     "output_type": "stream",
     "text": [
      "[CV] ..................... n_estimators=64, score=1.000, total= 2.3min\n",
      "[CV] n_estimators=64 .................................................\n"
     ]
    },
    {
     "name": "stderr",
     "output_type": "stream",
     "text": [
      "[Parallel(n_jobs=1)]: Done   8 out of   8 | elapsed:  9.5min remaining:    0.0s\n"
     ]
    },
    {
     "name": "stdout",
     "output_type": "stream",
     "text": [
      "[CV] ..................... n_estimators=64, score=1.000, total= 2.3min\n"
     ]
    },
    {
     "name": "stderr",
     "output_type": "stream",
     "text": [
      "[Parallel(n_jobs=1)]: Done   9 out of   9 | elapsed: 11.9min remaining:    0.0s\n",
      "[Parallel(n_jobs=1)]: Done   9 out of   9 | elapsed: 11.9min finished\n"
     ]
    },
    {
     "data": {
      "text/plain": [
       "GridSearchCV(cv=3, error_score='raise-deprecating',\n",
       "             estimator=RandomForestClassifier(bootstrap=True, class_weight=None,\n",
       "                                              criterion='gini', max_depth=None,\n",
       "                                              max_features='auto',\n",
       "                                              max_leaf_nodes=None,\n",
       "                                              min_impurity_decrease=0.0,\n",
       "                                              min_impurity_split=None,\n",
       "                                              min_samples_leaf=1,\n",
       "                                              min_samples_split=2,\n",
       "                                              min_weight_fraction_leaf=0.0,\n",
       "                                              n_estimators='warn', n_jobs=None,\n",
       "                                              oob_score=False, random_state=0,\n",
       "                                              verbose=0, warm_start=False),\n",
       "             iid='warn', n_jobs=None, param_grid={'n_estimators': [10, 32, 64]},\n",
       "             pre_dispatch='2*n_jobs', refit=True, return_train_score=False,\n",
       "             scoring='roc_auc', verbose=10)"
      ]
     },
     "execution_count": 57,
     "metadata": {},
     "output_type": "execute_result"
    }
   ],
   "source": [
    "grid_forest = GridSearchCV(estimator=classifier,  \n",
    "                     param_grid=grid_param,\n",
    "                     scoring='roc_auc',\n",
    "                     cv=3, verbose = 10)\n",
    "\n",
    "grid_forest.fit(X_train, y_train)"
   ]
  },
  {
   "cell_type": "code",
   "execution_count": 58,
   "metadata": {},
   "outputs": [
    {
     "name": "stdout",
     "output_type": "stream",
     "text": [
      "{'n_estimators': 64}\n",
      "Mean Area Under the Receiver Operating Characteristic Curve: 0.9997361613584306\n"
     ]
    }
   ],
   "source": [
    "best_parameters = grid_forest.best_params_  \n",
    "print(best_parameters) \n",
    "\n",
    "best_result = grid_forest.best_score_  \n",
    "print(\"Mean Area Under the Receiver Operating Characteristic Curve:\", best_result)  "
   ]
  },
  {
   "cell_type": "code",
   "execution_count": 59,
   "metadata": {},
   "outputs": [],
   "source": [
    "y_predicted = grid_forest.predict(X_test)\n",
    "y_predicted_forest = y_predicted"
   ]
  },
  {
   "cell_type": "code",
   "execution_count": 60,
   "metadata": {},
   "outputs": [
    {
     "name": "stdout",
     "output_type": "stream",
     "text": [
      "accuracy score: 0.9969389139771713\n"
     ]
    }
   ],
   "source": [
    "print(\"accuracy score:\", accuracy_score(y_test, y_predicted))"
   ]
  },
  {
   "cell_type": "code",
   "execution_count": 61,
   "metadata": {},
   "outputs": [
    {
     "data": {
      "text/plain": [
       "<matplotlib.axes._subplots.AxesSubplot at 0x1de07653390>"
      ]
     },
     "execution_count": 61,
     "metadata": {},
     "output_type": "execute_result"
    },
    {
     "data": {
      "image/png": "[encoded data removed]",
      "text/plain": [
       "<Figure size 432x288 with 2 Axes>"
      ]
     },
     "metadata": {
      "needs_background": "light"
     },
     "output_type": "display_data"
    }
   ],
   "source": [
    "cmm = cm(y_test, y_predicted)\n",
    "cmm_forest = cmm\n",
    "sns.heatmap(cmm, annot = True, fmt='g')"
   ]
  },
  {
   "cell_type": "code",
   "execution_count": 62,
   "metadata": {},
   "outputs": [
    {
     "name": "stdout",
     "output_type": "stream",
     "text": [
      "Percentage of wrongly classified values: 0.3061086022828759 %\n"
     ]
    }
   ],
   "source": [
    "print(\"Percentage of wrongly classified values:\",970/(60206+255705+970)*100,\"%\")"
   ]
  },
  {
   "cell_type": "markdown",
   "metadata": {},
   "source": [
    "What might be surprising Random Forest did slightly **worse** than Logistic Regression with L2 penalty. Random Forest has a better ROC AUC score, however it is worse in the area of accuracy score and also it has a bigger percent of wrongly classified values. What should be said it is also much more computationally demanding."
   ]
  },
  {
   "cell_type": "markdown",
   "metadata": {},
   "source": [
    "# 5. Support Vector Machines"
   ]
  },
  {
   "cell_type": "markdown",
   "metadata": {},
   "source": [
    "To use SVM, we need to normalize our variables."
   ]
  },
  {
   "cell_type": "code",
   "execution_count": 78,
   "metadata": {},
   "outputs": [],
   "source": [
    "X_SVM = fin_data.loc[:, fin_data.columns != 'loan_status']\n",
    "y_SVM = fin_data.loan_status\n",
    "\n",
    "num_cols = list(X_SVM.columns[np.any([X_SVM.dtypes==\"float64\", X_SVM.dtypes==\"int64\"], axis=0)])\n",
    "\n",
    "X_SVM[num_cols] = X_SVM[num_cols].apply(lambda x: (x-x.mean())/x.std())\n",
    "y_SVM = (y_SVM==\"Default\").astype(int)"
   ]
  },
  {
   "cell_type": "code",
   "execution_count": 82,
   "metadata": {},
   "outputs": [],
   "source": [
    "X_train_SVM, X_test_SVM, y_train_SVM, y_test_SVM = train_test_split(X_SVM, y_SVM, test_size=0.3, random_state = 42)"
   ]
  },
  {
   "cell_type": "code",
   "execution_count": 83,
   "metadata": {},
   "outputs": [],
   "source": [
    "y_train_SVM = y_train_SVM.reset_index(drop=True)\n",
    "X_train_SVM = X_train_SVM.reset_index(drop=True)"
   ]
  },
  {
   "cell_type": "markdown",
   "metadata": {},
   "source": [
    "We will use three different types of kernels.\n",
    "\n",
    "Firstly, we will use simple linear kernel. To reduce computing time, we will limit the number of samples for training to 2000."
   ]
  },
  {
   "cell_type": "code",
   "execution_count": 84,
   "metadata": {},
   "outputs": [],
   "source": [
    "limit = 2000\n",
    "kf = KFold(n_splits=5, random_state=42)\n",
    "aucs = []\n",
    "aucsT = []\n",
    "clf = SVC(C=1, cache_size=500, kernel='linear',\n",
    "    max_iter=-1, probability=True,\n",
    "    tol=0.001, verbose=False)\n",
    "\n",
    "for train, test in kf.split(X_train_SVM.index.values):\n",
    "    X = X_train_SVM.iloc[train].sample(limit)\n",
    "    clf.fit(X.values, y_train_SVM[X.index.values].values)\n",
    "    prob = clf.predict_proba(X_train_SVM.iloc[test].values)\n",
    "    \n",
    "    aucs.append(metrics.roc_auc_score(y_train_SVM[test].values, prob[:,1]))\n",
    "    \n",
    "    prob = clf.predict_proba(X.values)\n",
    "    aucsT.append(metrics.roc_auc_score(y_train_SVM[X.index.values].values, prob[:,1]))\n"
   ]
  },
  {
   "cell_type": "code",
   "execution_count": 85,
   "metadata": {
    "scrolled": true
   },
   "outputs": [
    {
     "name": "stdout",
     "output_type": "stream",
     "text": [
      "Mean AUC for Training: 0.99999482\n",
      "[1.         1.         0.99999549 0.9999786  1.        ]\n",
      "Mean AUC for Full Dataset: 0.99838016\n",
      "[0.9983705  0.99859925 0.99849343 0.99863607 0.99780152]\n"
     ]
    }
   ],
   "source": [
    "print(\"Mean AUC for Training: %.8f\" % np.mean(aucsT))\n",
    "print(np.round(aucsT, 8))\n",
    "print(\"Mean AUC for Full Dataset: %.8f\" % np.mean(aucs))\n",
    "print(np.round(aucs, 8))"
   ]
  },
  {
   "cell_type": "markdown",
   "metadata": {},
   "source": [
    "Now we will see if the polynominal kernel with degree 2 will improve the fit."
   ]
  },
  {
   "cell_type": "code",
   "execution_count": 86,
   "metadata": {},
   "outputs": [],
   "source": [
    "limit = 2000\n",
    "kf = KFold(n_splits=5, random_state=42)\n",
    "aucs = []\n",
    "aucsT = []\n",
    "clf = SVC(C=1, cache_size=500, degree=2,kernel='poly',\n",
    "    max_iter=-1, probability=True,\n",
    "    tol=0.001, verbose=False, gamma='auto')\n",
    "\n",
    "for train, test in kf.split(X_train_SVM.index.values):\n",
    "    X = X_train_SVM.iloc[train].sample(limit)\n",
    "    clf.fit(X.values, y_train_SVM[X.index.values].values)\n",
    "    prob = clf.predict_proba(X_train_SVM.iloc[test].values)\n",
    "    \n",
    "    aucs.append(metrics.roc_auc_score(y_train_SVM[test].values, prob[:,1]))\n",
    "    \n",
    "    prob = clf.predict_proba(X.values)\n",
    "    aucsT.append(metrics.roc_auc_score(y_train_SVM[X.index.values].values, prob[:,1]))"
   ]
  },
  {
   "cell_type": "code",
   "execution_count": 87,
   "metadata": {},
   "outputs": [
    {
     "name": "stdout",
     "output_type": "stream",
     "text": [
      "Mean AUC for Training: 0.99892969\n",
      "[0.99899359 0.9989814  0.99830791 0.99939104 0.9989745 ]\n",
      "Mean AUC for Full Dataset: 0.99019854\n",
      "[0.99003624 0.99059708 0.98959623 0.9905322  0.99023095]\n"
     ]
    }
   ],
   "source": [
    "print(\"Mean AUC for Training: %.8f\" % np.mean(aucsT))\n",
    "print(np.round(aucsT, 8))\n",
    "print(\"Mean AUC for Full Dataset: %.8f\" % np.mean(aucs))\n",
    "print(np.round(aucs, 8))"
   ]
  },
  {
   "cell_type": "markdown",
   "metadata": {},
   "source": [
    "Polynomial kernel probably is not a good fit for our data as it lowered the AUC score. \n",
    "\n",
    "Lastly we will try the RBF kernel."
   ]
  },
  {
   "cell_type": "code",
   "execution_count": 88,
   "metadata": {},
   "outputs": [],
   "source": [
    "limit = 2000\n",
    "kf = KFold(n_splits=5, random_state=42)\n",
    "aucs = []\n",
    "aucsT = []\n",
    "clf = SVC(C=1, cache_size=500, degree=3,kernel='rbf',\n",
    "    max_iter=-1, probability=True,\n",
    "    tol=0.001, verbose=False, gamma='scale')\n",
    "\n",
    "for train, test in kf.split(X_train_SVM.index.values):\n",
    "    X = X_train_SVM.iloc[train].sample(limit)\n",
    "    clf.fit(X.values, y_train_SVM[X.index.values].values)\n",
    "    prob = clf.predict_proba(X_train_SVM.iloc[test].values)\n",
    "    \n",
    "    aucs.append(metrics.roc_auc_score(y_train_SVM[test].values, prob[:,1]))\n",
    "    \n",
    "    prob = clf.predict_proba(X.values)\n",
    "    aucsT.append(metrics.roc_auc_score(y_train_SVM[X.index.values].values, prob[:,1]))"
   ]
  },
  {
   "cell_type": "code",
   "execution_count": 89,
   "metadata": {},
   "outputs": [
    {
     "name": "stdout",
     "output_type": "stream",
     "text": [
      "Mean AUC for Training: 0.99996712\n",
      "[0.99997611 0.99993445 0.99993996 0.99999314 0.99999194]\n",
      "Mean AUC for Full Dataset: 0.99586708\n",
      "[0.9948432  0.99658166 0.99620352 0.99536437 0.99634265]\n"
     ]
    }
   ],
   "source": [
    "print(\"Mean AUC for Training: %.8f\" % np.mean(aucsT))\n",
    "print(np.round(aucsT, 8))\n",
    "print(\"Mean AUC for Full Dataset: %.8f\" % np.mean(aucs))\n",
    "print(np.round(aucs, 8))"
   ]
  },
  {
   "cell_type": "markdown",
   "metadata": {},
   "source": [
    "The RBF kernel is better in terms of AUC for training dataset, but worse for the whole dataset. Therefore we will choose linear kernel in later analysis."
   ]
  },
  {
   "cell_type": "code",
   "execution_count": 91,
   "metadata": {},
   "outputs": [
    {
     "data": {
      "text/plain": [
       "SVC(C=1, cache_size=500, class_weight=None, coef0=0.0,\n",
       "    decision_function_shape='ovr', degree=3, gamma='auto_deprecated',\n",
       "    kernel='linear', max_iter=-1, probability=True, random_state=None,\n",
       "    shrinking=True, tol=0.001, verbose=False)"
      ]
     },
     "execution_count": 91,
     "metadata": {},
     "output_type": "execute_result"
    }
   ],
   "source": [
    "clf = SVC(C=1, cache_size=500, kernel='linear', max_iter=-1, probability=True, tol=0.001, verbose=False)\n",
    "clf.fit(X_train_SVM.sample(limit, random_state=42).values, y_train_SVM.sample(limit, random_state=42).values)"
   ]
  },
  {
   "cell_type": "markdown",
   "metadata": {},
   "source": [
    "Now we will see how our model is doing on the test set."
   ]
  },
  {
   "cell_type": "code",
   "execution_count": 126,
   "metadata": {},
   "outputs": [],
   "source": [
    "probs = clf.predict_proba(X_test_SVM.values)[:,1]\n",
    "y_predicted_SVM = probs>0.5\n",
    "y_predicted_SVM = y_predicted_SVM.astype(int)"
   ]
  },
  {
   "cell_type": "code",
   "execution_count": 127,
   "metadata": {},
   "outputs": [
    {
     "name": "stdout",
     "output_type": "stream",
     "text": [
      "accuracy score: 0.9847639965791575\n"
     ]
    }
   ],
   "source": [
    "print(\"accuracy score:\", accuracy_score(y_test_SVM, y_predicted_SVM))"
   ]
  },
  {
   "cell_type": "code",
   "execution_count": 132,
   "metadata": {},
   "outputs": [
    {
     "data": {
      "text/plain": [
       "<matplotlib.axes._subplots.AxesSubplot at 0x14914503358>"
      ]
     },
     "execution_count": 132,
     "metadata": {},
     "output_type": "execute_result"
    },
    {
     "data": {
      "image/png": "[encoded data removed]",
      "text/plain": [
       "<Figure size 432x288 with 2 Axes>"
      ]
     },
     "metadata": {
      "needs_background": "light"
     },
     "output_type": "display_data"
    }
   ],
   "source": [
    "cmm_svm = cm(y_test_SVM, y_predicted_SVM)\n",
    "sns.heatmap(cmm_svm, annot = True, fmt='g')"
   ]
  },
  {
   "cell_type": "code",
   "execution_count": 129,
   "metadata": {},
   "outputs": [
    {
     "name": "stdout",
     "output_type": "stream",
     "text": [
      "Percentage of wrongly classified values: 1.5236003420842523 %\n"
     ]
    }
   ],
   "source": [
    "print(\"Percentage of wrongly classified values:\",(cmm_svm[0][1]+cmm_svm[1][0])/(cmm_svm[0][0]+cmm_svm[0][1]+cmm_svm[1][1]+cmm_svm[1][0])*100,\"%\")"
   ]
  },
  {
   "cell_type": "markdown",
   "metadata": {},
   "source": [
    "# 6. Model comparisons"
   ]
  },
  {
   "cell_type": "markdown",
   "metadata": {},
   "source": [
    "In general, in credit risk we are interested in identifying defaulters and there is a bigger risk in falsely assessing someone is not a defaulter (false negative) than falsely identifying someone as a defaulter (false positive). \n",
    "\n",
    "Therefore, additionally to the measures calculated above, we will also compare True Positive Rate.\n",
    "\n",
    "$$ TPR = {TP \\over P} = {TP \\over TP+FN}$$\n"
   ]
  },
  {
   "cell_type": "code",
   "execution_count": 142,
   "metadata": {},
   "outputs": [
    {
     "name": "stdout",
     "output_type": "stream",
     "text": [
      "TPR logit: 99.9988%\n",
      "TPR SVM: 98.4307%\n"
     ]
    }
   ],
   "source": [
    "def TPR(cmm):\n",
    "    return 100*(cmm[1][1] / (cmm[1][1] + cmm[1][0]))\n",
    "print(\"TPR logit: %.4f\" % TPR(cmm_logit), \"%\", sep=\"\")\n",
    "print(\"TPR forest: %.4f\" % TPR(cmm_forest), \"%\", sep=\"\")\n",
    "print(\"TPR SVM: %.4f\" % TPR(cmm_svm), \"%\", sep=\"\")"
   ]
  },
  {
   "cell_type": "markdown",
   "metadata": {},
   "source": [
    "We can see that logit model gave the best results.\n",
    "\n",
    "We will also look at Balanced Accuracy measures. Balanced Accuracy is more accurate in our case than Accurancy as our data is imbalanced.  \n",
    "$$ Bacc = ({TP \\over P} + {TN \\over N})/2$$"
   ]
  },
  {
   "cell_type": "code",
   "execution_count": 149,
   "metadata": {},
   "outputs": [
    {
     "name": "stdout",
     "output_type": "stream",
     "text": [
      "BACC logit: 99.9368%\n",
      "BACC SVM: 96.7921%\n"
     ]
    }
   ],
   "source": [
    "def BACC(cmm):\n",
    "    TP = cmm[1][1]\n",
    "    FP = cmm[0][1]\n",
    "    TN = cmm[0][0]\n",
    "    FN = cmm[1][0]\n",
    "    \n",
    "    return 100/2*(TP/(TP+FP) + TN/(TN+FN))\n",
    "\n",
    "print(\"BACC logit: %.4f\" % BACC(cmm_logit), \"%\", sep=\"\")\n",
    "print(\"BACC forest: %.4f\" % BACC(cmm_forest), \"%\", sep=\"\")\n",
    "print(\"BACC SVM: %.4f\" % BACC(cmm_svm), \"%\", sep=\"\")"
   ]
  },
  {
   "cell_type": "markdown",
   "metadata": {},
   "source": [
    "Again, logit model is the most accurate model.\n",
    "\n",
    "Finally, we will look at True Negative Rate."
   ]
  },
  {
   "cell_type": "markdown",
   "metadata": {},
   "source": [
    "$$TNR = {TN \\over N} = {TN \\over FP+TN}$$"
   ]
  },
  {
   "cell_type": "code",
   "execution_count": 152,
   "metadata": {},
   "outputs": [
    {
     "name": "stdout",
     "output_type": "stream",
     "text": [
      "TNR logit: 99.4916%\n",
      "TNR SVM: 98.4873%\n"
     ]
    }
   ],
   "source": [
    "def TNR(cmm):\n",
    "    TP = cmm[1][1]\n",
    "    FP = cmm[0][1]\n",
    "    TN = cmm[0][0]\n",
    "    FN = cmm[1][0]\n",
    "    \n",
    "    return 100*(TN/(FP+TN))\n",
    "\n",
    "print(\"TNR logit: %.4f\" % TNR(cmm_logit), \"%\", sep=\"\")\n",
    "print(\"TNR forest: %.4f\" % TNR(cmm_forest), \"%\", sep=\"\")\n",
    "print(\"TNR SVM: %.4f\" % TNR(cmm_svm), \"%\", sep=\"\")"
   ]
  },
  {
   "cell_type": "markdown",
   "metadata": {},
   "source": [
    "Again, the best classification model seems to be logit."
   ]
  },
  {
   "cell_type": "markdown",
   "metadata": {},
   "source": [
    "# 7. Summary"
   ]
  },
  {
   "cell_type": "markdown",
   "metadata": {},
   "source": [
    "The method that worked the best for our data turned out to be Logistic Regression. Using different accuracy measures (true positive rate, true negative rate, balanced accuracy and accuracy) we concluded that it beats Random Forest and Support Vector Machines.\n",
    "\n",
    "In all methods, we received unbelievably good results. This might be a sign for data leakage or maybe our variables contained information whether someone is a defaulter or not. Possible developments for this analysis would be to inspect whether the latter is actually the case."
   ]
  },
  {
   "cell_type": "code",
   "execution_count": null,
   "metadata": {},
   "outputs": [],
   "source": []
  }
 ],
 "metadata": {
  "kernelspec": {
   "display_name": "Python 3",
   "language": "python",
   "name": "python3"
  },
  "language_info": {
   "codemirror_mode": {
    "name": "ipython",
    "version": 3
   },
   "file_extension": ".py",
   "mimetype": "text/x-python",
   "name": "python",
   "nbconvert_exporter": "python",
   "pygments_lexer": "ipython3",
   "version": "3.7.0"
  }
 },
 "nbformat": 4,
 "nbformat_minor": 2
}
